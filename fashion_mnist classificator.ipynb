{
  "cells": [
    {
      "cell_type": "markdown",
      "id": "9a60be8e",
      "metadata": {
        "id": "9a60be8e"
      },
      "source": [
        "## Dataset Description\n",
        "Fashion-MNIST – аналог знаменитого датасета MNIST, который состоит не из рукописных символов, а из предметов одежды. Он был создан, чтобы актуализировать учебные задачи в компьютерном зрении и приблизить их к реальности.\n",
        "\n",
        "Решение более сложной постановки этой задачи может использоваться, например, в маркетплейсах. Покупателю могут рекомендоваться товары по изображениям в соответствии с введённым описанием. Продавцу при загрузке изображений в карточку товара могут автоматически рекомендоваться теги и описание предмета одежды.\n",
        "\n",
        "Каждое изображение представляет собой набор их 784 пикселей (28x28). Каждый пиксель принимает значение от 0 до 255, обозначая его цвет в черно-белой шкале. Обучающая выборка содержит 786 столбцов, где первый (label) – принадлежность изображения к классу, а последний – его уникальный номер (id). Остальные столбцы – пиксели изображения.\n",
        "Проведите первичный анализ данных, чтобы определить наличие NaN значений.\n",
        "Тестовая выборка (на основе которой должно быть получено исследование) содержит все те же столбцы, кроме label.\n",
        "\n",
        "Расшифровка классов (label), к которым принадлежат изображения:\n",
        "\n",
        "- 0 T-shirt/top – футболка\n",
        "- 1 Trouser – брюки\n",
        "- 2 Pullover – свитер\n",
        "- 3 Dress – платье\n",
        "- 4 Coat – пальто\n",
        "- 5 Sandal – сандалия\n",
        "- 6 Shirt – рубашка\n",
        "- 7 Sneaker – кроссовок\n",
        "- 8 Bag – сумка\n",
        "- 9 Ankle boot – сапог\n",
        "\n",
        "Структура данных:\n",
        "\n",
        "fmnist_train.csv – обучающая выборка\n",
        "fmnist_test.csv – тестовая выборка (на которой должно быть получено предсказание)\n",
        "sample_submission.csv – пример решения"
      ]
    },
    {
      "cell_type": "code",
      "source": [
       
      ],
      "metadata": {
        "colab": {
          "base_uri": "https://localhost:8080/"
        },
        "id": "KGTRoH9PSlHb",
        "outputId": "3890d81e-0fa5-44e8-855d-0713beb21963"
      },
      "id": "KGTRoH9PSlHb",
      "execution_count": 1,
      "outputs": [
        {
          "output_type": "stream",
          "name": "stdout",
          "text": [
            "Mounted at /content/drive\n"
          ]
        }
      ]
    },
    {
      "cell_type": "code",
      "execution_count": 2,
      "id": "ffd8a2d4",
      "metadata": {
        "id": "ffd8a2d4"
      },
      "outputs": [],
      "source": [
        "import tensorflow as tf\n",
        "from tensorflow.keras.models import Sequential\n",
        "from tensorflow.keras.layers import Dense, MaxPool2D, Conv2D, Dropout, Flatten\n",
        "from tensorflow.keras import utils\n",
        "from tensorflow.keras.utils import plot_model\n",
        "from tensorflow.keras.callbacks import ModelCheckpoint\n",
        "\n",
        "from tensorflow.keras.losses import categorical_crossentropy\n",
        "import numpy as np \n",
        "import matplotlib.pyplot as plt"
      ]
    },
    {
      "cell_type": "code",
      "source": [
        "from tensorflow.keras import backend as K\n"
      ],
      "metadata": {
        "id": "JTJIa8Ye6ox0"
      },
      "id": "JTJIa8Ye6ox0",
      "execution_count": 30,
      "outputs": []
    },
    {
      "cell_type": "code",
      "execution_count": 55,
      "id": "5e45e749",
      "metadata": {
        "id": "5e45e749"
      },
      "outputs": [],
      "source": [
        "from tensorflow.keras.models import load_model"
      ]
    },
    {
      "cell_type": "code",
      "execution_count": 3,
      "id": "93e85225",
      "metadata": {
        "id": "93e85225"
      },
      "outputs": [],
      "source": [
        "import pandas as pd\n",
        "from keras.utils import to_categorical"
      ]
    },
    {
      "cell_type": "code",
      "execution_count": 4,
      "id": "40f497a0",
      "metadata": {
        "id": "40f497a0"
      },
      "outputs": [],
      "source": [
        "from sklearn.metrics import accuracy_score\n",
        "from sklearn.model_selection import train_test_split"
      ]
    },
    {
      "cell_type": "code",
      "execution_count": 5,
      "id": "70b9e337",
      "metadata": {
        "id": "70b9e337"
      },
      "outputs": [],
      "source": [
        "df = pd.read_csv('/content/drive/MyDrive/Colab Notebooks/fmnist_train.csv')"
      ]
    },
    {
      "cell_type": "code",
      "execution_count": 6,
      "id": "2166f6bf",
      "metadata": {
        "id": "2166f6bf",
        "outputId": "408e4e14-2cff-4997-dfe9-38728d27c8e9",
        "colab": {
          "base_uri": "https://localhost:8080/",
          "height": 487
        }
      },
      "outputs": [
        {
          "output_type": "execute_result",
          "data": {
            "text/plain": [
              "       label  pixel1  pixel2  pixel3  pixel4  pixel5  pixel6  pixel7  pixel8  \\\n",
              "0          2       0       0       0       0       0       0       0       0   \n",
              "1          9       0       0       0       0       0       0       0       0   \n",
              "2          6       0       0       0       0       0       0       0       5   \n",
              "3          0       0       0       0       1       2       0       0       0   \n",
              "4          3       0       0       0       0       0       0       0       0   \n",
              "...      ...     ...     ...     ...     ...     ...     ...     ...     ...   \n",
              "17035      4       0       0       0       0       0       0       0       1   \n",
              "17036      4       0       0       0       0       0       0       5       4   \n",
              "17037      4       0       0       0       0       0       0       0       0   \n",
              "17038      6       0       0       0       0       0       0       0       0   \n",
              "17039      5       0       0       0       0       0       0       0       0   \n",
              "\n",
              "       pixel9  ...  pixel776  pixel777  pixel778  pixel779  pixel780  \\\n",
              "0           0  ...       0.0       0.0       0.0       0.0       0.0   \n",
              "1           0  ...       0.0       0.0       0.0       0.0       0.0   \n",
              "2           0  ...       0.0       0.0      30.0      43.0       0.0   \n",
              "3           0  ...       0.0       0.0       0.0       0.0       1.0   \n",
              "4           0  ...       0.0       0.0       0.0       0.0       0.0   \n",
              "...       ...  ...       ...       ...       ...       ...       ...   \n",
              "17035       0  ...     186.0      16.0       0.0       2.0       0.0   \n",
              "17036       3  ...       0.0      33.0      48.0      37.0       3.0   \n",
              "17037       0  ...       0.0       0.0       0.0       0.0       1.0   \n",
              "17038       0  ...       0.0       0.0       0.0       0.0       0.0   \n",
              "17039       0  ...       NaN       NaN       NaN       NaN       NaN   \n",
              "\n",
              "       pixel781  pixel782  pixel783  pixel784     Id  \n",
              "0           0.0       0.0       0.0       0.0      0  \n",
              "1           0.0       0.0       0.0       0.0      1  \n",
              "2           0.0       0.0       0.0       0.0      2  \n",
              "3           0.0       0.0       0.0       0.0      3  \n",
              "4           0.0       0.0       0.0       0.0      4  \n",
              "...         ...       ...       ...       ...    ...  \n",
              "17035       0.0       0.0       0.0       0.0  17035  \n",
              "17036       0.0       0.0       0.0       0.0  17036  \n",
              "17037       0.0       0.0       0.0       0.0  17037  \n",
              "17038       0.0       0.0       0.0       0.0  17038  \n",
              "17039       NaN       NaN       NaN       NaN  17039  \n",
              "\n",
              "[17040 rows x 786 columns]"
            ],
            "text/html": [
              "\n",
              "  <div id=\"df-8eb8c9f0-7b82-435a-aa69-6eef5ae6f574\">\n",
              "    <div class=\"colab-df-container\">\n",
              "      <div>\n",
              "<style scoped>\n",
              "    .dataframe tbody tr th:only-of-type {\n",
              "        vertical-align: middle;\n",
              "    }\n",
              "\n",
              "    .dataframe tbody tr th {\n",
              "        vertical-align: top;\n",
              "    }\n",
              "\n",
              "    .dataframe thead th {\n",
              "        text-align: right;\n",
              "    }\n",
              "</style>\n",
              "<table border=\"1\" class=\"dataframe\">\n",
              "  <thead>\n",
              "    <tr style=\"text-align: right;\">\n",
              "      <th></th>\n",
              "      <th>label</th>\n",
              "      <th>pixel1</th>\n",
              "      <th>pixel2</th>\n",
              "      <th>pixel3</th>\n",
              "      <th>pixel4</th>\n",
              "      <th>pixel5</th>\n",
              "      <th>pixel6</th>\n",
              "      <th>pixel7</th>\n",
              "      <th>pixel8</th>\n",
              "      <th>pixel9</th>\n",
              "      <th>...</th>\n",
              "      <th>pixel776</th>\n",
              "      <th>pixel777</th>\n",
              "      <th>pixel778</th>\n",
              "      <th>pixel779</th>\n",
              "      <th>pixel780</th>\n",
              "      <th>pixel781</th>\n",
              "      <th>pixel782</th>\n",
              "      <th>pixel783</th>\n",
              "      <th>pixel784</th>\n",
              "      <th>Id</th>\n",
              "    </tr>\n",
              "  </thead>\n",
              "  <tbody>\n",
              "    <tr>\n",
              "      <th>0</th>\n",
              "      <td>2</td>\n",
              "      <td>0</td>\n",
              "      <td>0</td>\n",
              "      <td>0</td>\n",
              "      <td>0</td>\n",
              "      <td>0</td>\n",
              "      <td>0</td>\n",
              "      <td>0</td>\n",
              "      <td>0</td>\n",
              "      <td>0</td>\n",
              "      <td>...</td>\n",
              "      <td>0.0</td>\n",
              "      <td>0.0</td>\n",
              "      <td>0.0</td>\n",
              "      <td>0.0</td>\n",
              "      <td>0.0</td>\n",
              "      <td>0.0</td>\n",
              "      <td>0.0</td>\n",
              "      <td>0.0</td>\n",
              "      <td>0.0</td>\n",
              "      <td>0</td>\n",
              "    </tr>\n",
              "    <tr>\n",
              "      <th>1</th>\n",
              "      <td>9</td>\n",
              "      <td>0</td>\n",
              "      <td>0</td>\n",
              "      <td>0</td>\n",
              "      <td>0</td>\n",
              "      <td>0</td>\n",
              "      <td>0</td>\n",
              "      <td>0</td>\n",
              "      <td>0</td>\n",
              "      <td>0</td>\n",
              "      <td>...</td>\n",
              "      <td>0.0</td>\n",
              "      <td>0.0</td>\n",
              "      <td>0.0</td>\n",
              "      <td>0.0</td>\n",
              "      <td>0.0</td>\n",
              "      <td>0.0</td>\n",
              "      <td>0.0</td>\n",
              "      <td>0.0</td>\n",
              "      <td>0.0</td>\n",
              "      <td>1</td>\n",
              "    </tr>\n",
              "    <tr>\n",
              "      <th>2</th>\n",
              "      <td>6</td>\n",
              "      <td>0</td>\n",
              "      <td>0</td>\n",
              "      <td>0</td>\n",
              "      <td>0</td>\n",
              "      <td>0</td>\n",
              "      <td>0</td>\n",
              "      <td>0</td>\n",
              "      <td>5</td>\n",
              "      <td>0</td>\n",
              "      <td>...</td>\n",
              "      <td>0.0</td>\n",
              "      <td>0.0</td>\n",
              "      <td>30.0</td>\n",
              "      <td>43.0</td>\n",
              "      <td>0.0</td>\n",
              "      <td>0.0</td>\n",
              "      <td>0.0</td>\n",
              "      <td>0.0</td>\n",
              "      <td>0.0</td>\n",
              "      <td>2</td>\n",
              "    </tr>\n",
              "    <tr>\n",
              "      <th>3</th>\n",
              "      <td>0</td>\n",
              "      <td>0</td>\n",
              "      <td>0</td>\n",
              "      <td>0</td>\n",
              "      <td>1</td>\n",
              "      <td>2</td>\n",
              "      <td>0</td>\n",
              "      <td>0</td>\n",
              "      <td>0</td>\n",
              "      <td>0</td>\n",
              "      <td>...</td>\n",
              "      <td>0.0</td>\n",
              "      <td>0.0</td>\n",
              "      <td>0.0</td>\n",
              "      <td>0.0</td>\n",
              "      <td>1.0</td>\n",
              "      <td>0.0</td>\n",
              "      <td>0.0</td>\n",
              "      <td>0.0</td>\n",
              "      <td>0.0</td>\n",
              "      <td>3</td>\n",
              "    </tr>\n",
              "    <tr>\n",
              "      <th>4</th>\n",
              "      <td>3</td>\n",
              "      <td>0</td>\n",
              "      <td>0</td>\n",
              "      <td>0</td>\n",
              "      <td>0</td>\n",
              "      <td>0</td>\n",
              "      <td>0</td>\n",
              "      <td>0</td>\n",
              "      <td>0</td>\n",
              "      <td>0</td>\n",
              "      <td>...</td>\n",
              "      <td>0.0</td>\n",
              "      <td>0.0</td>\n",
              "      <td>0.0</td>\n",
              "      <td>0.0</td>\n",
              "      <td>0.0</td>\n",
              "      <td>0.0</td>\n",
              "      <td>0.0</td>\n",
              "      <td>0.0</td>\n",
              "      <td>0.0</td>\n",
              "      <td>4</td>\n",
              "    </tr>\n",
              "    <tr>\n",
              "      <th>...</th>\n",
              "      <td>...</td>\n",
              "      <td>...</td>\n",
              "      <td>...</td>\n",
              "      <td>...</td>\n",
              "      <td>...</td>\n",
              "      <td>...</td>\n",
              "      <td>...</td>\n",
              "      <td>...</td>\n",
              "      <td>...</td>\n",
              "      <td>...</td>\n",
              "      <td>...</td>\n",
              "      <td>...</td>\n",
              "      <td>...</td>\n",
              "      <td>...</td>\n",
              "      <td>...</td>\n",
              "      <td>...</td>\n",
              "      <td>...</td>\n",
              "      <td>...</td>\n",
              "      <td>...</td>\n",
              "      <td>...</td>\n",
              "      <td>...</td>\n",
              "    </tr>\n",
              "    <tr>\n",
              "      <th>17035</th>\n",
              "      <td>4</td>\n",
              "      <td>0</td>\n",
              "      <td>0</td>\n",
              "      <td>0</td>\n",
              "      <td>0</td>\n",
              "      <td>0</td>\n",
              "      <td>0</td>\n",
              "      <td>0</td>\n",
              "      <td>1</td>\n",
              "      <td>0</td>\n",
              "      <td>...</td>\n",
              "      <td>186.0</td>\n",
              "      <td>16.0</td>\n",
              "      <td>0.0</td>\n",
              "      <td>2.0</td>\n",
              "      <td>0.0</td>\n",
              "      <td>0.0</td>\n",
              "      <td>0.0</td>\n",
              "      <td>0.0</td>\n",
              "      <td>0.0</td>\n",
              "      <td>17035</td>\n",
              "    </tr>\n",
              "    <tr>\n",
              "      <th>17036</th>\n",
              "      <td>4</td>\n",
              "      <td>0</td>\n",
              "      <td>0</td>\n",
              "      <td>0</td>\n",
              "      <td>0</td>\n",
              "      <td>0</td>\n",
              "      <td>0</td>\n",
              "      <td>5</td>\n",
              "      <td>4</td>\n",
              "      <td>3</td>\n",
              "      <td>...</td>\n",
              "      <td>0.0</td>\n",
              "      <td>33.0</td>\n",
              "      <td>48.0</td>\n",
              "      <td>37.0</td>\n",
              "      <td>3.0</td>\n",
              "      <td>0.0</td>\n",
              "      <td>0.0</td>\n",
              "      <td>0.0</td>\n",
              "      <td>0.0</td>\n",
              "      <td>17036</td>\n",
              "    </tr>\n",
              "    <tr>\n",
              "      <th>17037</th>\n",
              "      <td>4</td>\n",
              "      <td>0</td>\n",
              "      <td>0</td>\n",
              "      <td>0</td>\n",
              "      <td>0</td>\n",
              "      <td>0</td>\n",
              "      <td>0</td>\n",
              "      <td>0</td>\n",
              "      <td>0</td>\n",
              "      <td>0</td>\n",
              "      <td>...</td>\n",
              "      <td>0.0</td>\n",
              "      <td>0.0</td>\n",
              "      <td>0.0</td>\n",
              "      <td>0.0</td>\n",
              "      <td>1.0</td>\n",
              "      <td>0.0</td>\n",
              "      <td>0.0</td>\n",
              "      <td>0.0</td>\n",
              "      <td>0.0</td>\n",
              "      <td>17037</td>\n",
              "    </tr>\n",
              "    <tr>\n",
              "      <th>17038</th>\n",
              "      <td>6</td>\n",
              "      <td>0</td>\n",
              "      <td>0</td>\n",
              "      <td>0</td>\n",
              "      <td>0</td>\n",
              "      <td>0</td>\n",
              "      <td>0</td>\n",
              "      <td>0</td>\n",
              "      <td>0</td>\n",
              "      <td>0</td>\n",
              "      <td>...</td>\n",
              "      <td>0.0</td>\n",
              "      <td>0.0</td>\n",
              "      <td>0.0</td>\n",
              "      <td>0.0</td>\n",
              "      <td>0.0</td>\n",
              "      <td>0.0</td>\n",
              "      <td>0.0</td>\n",
              "      <td>0.0</td>\n",
              "      <td>0.0</td>\n",
              "      <td>17038</td>\n",
              "    </tr>\n",
              "    <tr>\n",
              "      <th>17039</th>\n",
              "      <td>5</td>\n",
              "      <td>0</td>\n",
              "      <td>0</td>\n",
              "      <td>0</td>\n",
              "      <td>0</td>\n",
              "      <td>0</td>\n",
              "      <td>0</td>\n",
              "      <td>0</td>\n",
              "      <td>0</td>\n",
              "      <td>0</td>\n",
              "      <td>...</td>\n",
              "      <td>NaN</td>\n",
              "      <td>NaN</td>\n",
              "      <td>NaN</td>\n",
              "      <td>NaN</td>\n",
              "      <td>NaN</td>\n",
              "      <td>NaN</td>\n",
              "      <td>NaN</td>\n",
              "      <td>NaN</td>\n",
              "      <td>NaN</td>\n",
              "      <td>17039</td>\n",
              "    </tr>\n",
              "  </tbody>\n",
              "</table>\n",
              "<p>17040 rows × 786 columns</p>\n",
              "</div>\n",
              "      <button class=\"colab-df-convert\" onclick=\"convertToInteractive('df-8eb8c9f0-7b82-435a-aa69-6eef5ae6f574')\"\n",
              "              title=\"Convert this dataframe to an interactive table.\"\n",
              "              style=\"display:none;\">\n",
              "        \n",
              "  <svg xmlns=\"http://www.w3.org/2000/svg\" height=\"24px\"viewBox=\"0 0 24 24\"\n",
              "       width=\"24px\">\n",
              "    <path d=\"M0 0h24v24H0V0z\" fill=\"none\"/>\n",
              "    <path d=\"M18.56 5.44l.94 2.06.94-2.06 2.06-.94-2.06-.94-.94-2.06-.94 2.06-2.06.94zm-11 1L8.5 8.5l.94-2.06 2.06-.94-2.06-.94L8.5 2.5l-.94 2.06-2.06.94zm10 10l.94 2.06.94-2.06 2.06-.94-2.06-.94-.94-2.06-.94 2.06-2.06.94z\"/><path d=\"M17.41 7.96l-1.37-1.37c-.4-.4-.92-.59-1.43-.59-.52 0-1.04.2-1.43.59L10.3 9.45l-7.72 7.72c-.78.78-.78 2.05 0 2.83L4 21.41c.39.39.9.59 1.41.59.51 0 1.02-.2 1.41-.59l7.78-7.78 2.81-2.81c.8-.78.8-2.07 0-2.86zM5.41 20L4 18.59l7.72-7.72 1.47 1.35L5.41 20z\"/>\n",
              "  </svg>\n",
              "      </button>\n",
              "      \n",
              "  <style>\n",
              "    .colab-df-container {\n",
              "      display:flex;\n",
              "      flex-wrap:wrap;\n",
              "      gap: 12px;\n",
              "    }\n",
              "\n",
              "    .colab-df-convert {\n",
              "      background-color: #E8F0FE;\n",
              "      border: none;\n",
              "      border-radius: 50%;\n",
              "      cursor: pointer;\n",
              "      display: none;\n",
              "      fill: #1967D2;\n",
              "      height: 32px;\n",
              "      padding: 0 0 0 0;\n",
              "      width: 32px;\n",
              "    }\n",
              "\n",
              "    .colab-df-convert:hover {\n",
              "      background-color: #E2EBFA;\n",
              "      box-shadow: 0px 1px 2px rgba(60, 64, 67, 0.3), 0px 1px 3px 1px rgba(60, 64, 67, 0.15);\n",
              "      fill: #174EA6;\n",
              "    }\n",
              "\n",
              "    [theme=dark] .colab-df-convert {\n",
              "      background-color: #3B4455;\n",
              "      fill: #D2E3FC;\n",
              "    }\n",
              "\n",
              "    [theme=dark] .colab-df-convert:hover {\n",
              "      background-color: #434B5C;\n",
              "      box-shadow: 0px 1px 3px 1px rgba(0, 0, 0, 0.15);\n",
              "      filter: drop-shadow(0px 1px 2px rgba(0, 0, 0, 0.3));\n",
              "      fill: #FFFFFF;\n",
              "    }\n",
              "  </style>\n",
              "\n",
              "      <script>\n",
              "        const buttonEl =\n",
              "          document.querySelector('#df-8eb8c9f0-7b82-435a-aa69-6eef5ae6f574 button.colab-df-convert');\n",
              "        buttonEl.style.display =\n",
              "          google.colab.kernel.accessAllowed ? 'block' : 'none';\n",
              "\n",
              "        async function convertToInteractive(key) {\n",
              "          const element = document.querySelector('#df-8eb8c9f0-7b82-435a-aa69-6eef5ae6f574');\n",
              "          const dataTable =\n",
              "            await google.colab.kernel.invokeFunction('convertToInteractive',\n",
              "                                                     [key], {});\n",
              "          if (!dataTable) return;\n",
              "\n",
              "          const docLinkHtml = 'Like what you see? Visit the ' +\n",
              "            '<a target=\"_blank\" href=https://colab.research.google.com/notebooks/data_table.ipynb>data table notebook</a>'\n",
              "            + ' to learn more about interactive tables.';\n",
              "          element.innerHTML = '';\n",
              "          dataTable['output_type'] = 'display_data';\n",
              "          await google.colab.output.renderOutput(dataTable, element);\n",
              "          const docLink = document.createElement('div');\n",
              "          docLink.innerHTML = docLinkHtml;\n",
              "          element.appendChild(docLink);\n",
              "        }\n",
              "      </script>\n",
              "    </div>\n",
              "  </div>\n",
              "  "
            ]
          },
          "metadata": {},
          "execution_count": 6
        }
      ],
      "source": [
        "df"
      ]
    },
    {
      "cell_type": "code",
      "execution_count": 7,
      "id": "7289ccf0",
      "metadata": {
        "id": "7289ccf0",
        "outputId": "edd55a8b-2a1d-409d-f70c-194fab4dc5c2",
        "colab": {
          "base_uri": "https://localhost:8080/"
        }
      },
      "outputs": [
        {
          "output_type": "execute_result",
          "data": {
            "text/plain": [
              "label       0\n",
              "pixel1      0\n",
              "pixel2      0\n",
              "pixel3      0\n",
              "pixel4      0\n",
              "           ..\n",
              "pixel781    1\n",
              "pixel782    1\n",
              "pixel783    1\n",
              "pixel784    1\n",
              "Id          0\n",
              "Length: 786, dtype: int64"
            ]
          },
          "metadata": {},
          "execution_count": 7
        }
      ],
      "source": [
        "df.isna().sum()"
      ]
    },
    {
      "cell_type": "code",
      "execution_count": 8,
      "id": "b22ce7ec",
      "metadata": {
        "id": "b22ce7ec",
        "outputId": "564f5740-3992-4047-a9fc-51c81fa151aa",
        "colab": {
          "base_uri": "https://localhost:8080/"
        }
      },
      "outputs": [
        {
          "output_type": "stream",
          "name": "stdout",
          "text": [
            "<class 'pandas.core.frame.DataFrame'>\n",
            "RangeIndex: 17040 entries, 0 to 17039\n",
            "Columns: 786 entries, label to Id\n",
            "dtypes: float64(424), int64(362)\n",
            "memory usage: 102.2 MB\n"
          ]
        }
      ],
      "source": [
        "df.info()"
      ]
    },
    {
      "cell_type": "code",
      "execution_count": 9,
      "id": "944820cf",
      "metadata": {
        "id": "944820cf"
      },
      "outputs": [],
      "source": [
        "def replace_nan_with_zero(dataset):\n",
        "    \"\"\"\n",
        "    Заменяет все значения NaN в датасете на нули.\n",
        "    \n",
        "    Аргументы:\n",
        "    dataset -- датасет pandas\n",
        "    \n",
        "    Возвращает:\n",
        "    Новый датасет с замененными значениями NaN на нули.\n",
        "    \"\"\"\n",
        "    return dataset.fillna(0)"
      ]
    },
    {
      "cell_type": "code",
      "execution_count": 10,
      "id": "a362bccb",
      "metadata": {
        "id": "a362bccb"
      },
      "outputs": [],
      "source": [
        "# Заменяем значения NaN на нули\n",
        "df = replace_nan_with_zero(df)"
      ]
    },
    {
      "cell_type": "code",
      "execution_count": 11,
      "id": "98155395",
      "metadata": {
        "id": "98155395",
        "outputId": "384f0d61-66c3-4cd8-b3c3-86a014acc03e",
        "colab": {
          "base_uri": "https://localhost:8080/"
        }
      },
      "outputs": [
        {
          "output_type": "execute_result",
          "data": {
            "text/plain": [
              "array([[0., 0., 0., ..., 0., 0., 0.],\n",
              "       [0., 0., 0., ..., 0., 0., 0.],\n",
              "       [0., 0., 0., ..., 0., 0., 0.],\n",
              "       ...,\n",
              "       [0., 0., 0., ..., 0., 0., 0.],\n",
              "       [0., 0., 0., ..., 0., 0., 0.],\n",
              "       [0., 0., 0., ..., 0., 0., 0.]])"
            ]
          },
          "metadata": {},
          "execution_count": 11
        }
      ],
      "source": [
        "train_images = df[df.columns[1:-1]].values\n",
        "train_images"
      ]
    },
    {
      "cell_type": "code",
      "execution_count": 12,
      "id": "106a257e",
      "metadata": {
        "id": "106a257e",
        "outputId": "62e3a6ed-8360-4eb9-eb86-a819959e4579",
        "colab": {
          "base_uri": "https://localhost:8080/"
        }
      },
      "outputs": [
        {
          "output_type": "execute_result",
          "data": {
            "text/plain": [
              "(17040, 784)"
            ]
          },
          "metadata": {},
          "execution_count": 12
        }
      ],
      "source": [
        "train_images.shape"
      ]
    },
    {
      "cell_type": "code",
      "source": [
        "df.label.unique()"
      ],
      "metadata": {
        "colab": {
          "base_uri": "https://localhost:8080/"
        },
        "id": "kkPsTkh3TVCK",
        "outputId": "18d3e008-757a-4325-96c8-cbc6a8b9e763"
      },
      "id": "kkPsTkh3TVCK",
      "execution_count": 13,
      "outputs": [
        {
          "output_type": "execute_result",
          "data": {
            "text/plain": [
              "array([2, 9, 6, 0, 3, 4, 5, 8, 7, 1])"
            ]
          },
          "metadata": {},
          "execution_count": 13
        }
      ]
    },
    {
      "cell_type": "code",
      "execution_count": 14,
      "id": "b2201227",
      "metadata": {
        "id": "b2201227"
      },
      "outputs": [],
      "source": [
        "labels = df['label'].values"
      ]
    },
    {
      "cell_type": "code",
      "execution_count": 15,
      "id": "f134a6f7",
      "metadata": {
        "id": "f134a6f7",
        "outputId": "6648a9b7-7231-4ef7-8cf9-95fa48242c2a",
        "colab": {
          "base_uri": "https://localhost:8080/"
        }
      },
      "outputs": [
        {
          "output_type": "execute_result",
          "data": {
            "text/plain": [
              "array([2, 9, 6, ..., 4, 6, 5])"
            ]
          },
          "metadata": {},
          "execution_count": 15
        }
      ],
      "source": [
        "labels"
      ]
    },
    {
      "cell_type": "code",
      "source": [
        "#seed = 50"
      ],
      "metadata": {
        "id": "EPa3dd1aTk_5"
      },
      "id": "EPa3dd1aTk_5",
      "execution_count": 17,
      "outputs": []
    },
    {
      "cell_type": "code",
      "execution_count": 18,
      "id": "fba5a83d",
      "metadata": {
        "id": "fba5a83d"
      },
      "outputs": [],
      "source": [
        "# Разделение на обучающий и тестовый наборы\n",
        "X_train, X_test, y_train, y_test = train_test_split(train_images, labels, test_size=0.2, random_state=50, shuffle=True)"
      ]
    },
    {
      "cell_type": "code",
      "execution_count": 19,
      "id": "a5320d49",
      "metadata": {
        "id": "a5320d49"
      },
      "outputs": [],
      "source": [
        "X_train = X_train.reshape((-1, 28, 28, 1))\n",
        "X_test = X_test.reshape((-1, 28, 28, 1))"
      ]
    },
    {
      "cell_type": "code",
      "execution_count": 20,
      "id": "47298f5a",
      "metadata": {
        "id": "47298f5a",
        "outputId": "7e6cb8a2-c124-4102-ead3-422a0efce059",
        "colab": {
          "base_uri": "https://localhost:8080/"
        }
      },
      "outputs": [
        {
          "output_type": "execute_result",
          "data": {
            "text/plain": [
              "(13632, 28, 28, 1)"
            ]
          },
          "metadata": {},
          "execution_count": 20
        }
      ],
      "source": [
        "X_train.shape"
      ]
    },
    {
      "cell_type": "code",
      "source": [
        "X_test.shape"
      ],
      "metadata": {
        "colab": {
          "base_uri": "https://localhost:8080/"
        },
        "id": "8Ek6Ot2wT79B",
        "outputId": "befc29d0-9349-4282-b673-e81a6e38eda6"
      },
      "id": "8Ek6Ot2wT79B",
      "execution_count": 21,
      "outputs": [
        {
          "output_type": "execute_result",
          "data": {
            "text/plain": [
              "(3408, 28, 28, 1)"
            ]
          },
          "metadata": {},
          "execution_count": 21
        }
      ]
    },
    {
      "cell_type": "code",
      "source": [
        "# Нормализация данных\n",
        "X_train = X_train.astype(\"float32\")/255\n",
        "X_test = X_test.astype(\"float32\")/255"
      ],
      "metadata": {
        "id": "Ma8aqSCkUIBk"
      },
      "id": "Ma8aqSCkUIBk",
      "execution_count": 22,
      "outputs": []
    },
    {
      "cell_type": "code",
      "source": [
        "y_train = to_categorical(y_train, num_classes=10)\n",
        "y_test = to_categorical(y_test, num_classes=10)"
      ],
      "metadata": {
        "id": "KlFD8_xvUNCu"
      },
      "id": "KlFD8_xvUNCu",
      "execution_count": 23,
      "outputs": []
    },
    {
      "cell_type": "code",
      "source": [
        "model = Sequential()\n",
        "\n",
        "model.add(Conv2D(filters=16, kernel_size=(5, 5), activation='relu', strides=1, padding='same'))\n",
        "model.add(Conv2D(filters=32, kernel_size=(2, 2), activation='relu', strides=1, padding='same')) \n",
        "model.add(Dropout(0.21))\n",
        "\n",
        "model.add(Conv2D(filters=64, kernel_size=(3, 3), activation='relu', strides=1, padding='same'))\n",
        "model.add(Conv2D(filters=128, kernel_size=(3, 3), activation='relu', strides=1, padding='same'))\n",
        "model.add(MaxPool2D())\n",
        "\n",
        "\n",
        "model.add(Flatten())\n",
        "model.add(Dense(518, activation='relu'))\n",
        "model.add(Dropout(0.5))\n",
        "\n",
        "model.add(Dense(10, activation='softmax'))"
      ],
      "metadata": {
        "id": "5bzgRrzWTuYk"
      },
      "id": "5bzgRrzWTuYk",
      "execution_count": 42,
      "outputs": []
    },
    {
      "cell_type": "code",
      "source": [
        "checkpoint = ModelCheckpoint('weights_epoch_{epoch:02d}.h5', \n",
        "                             monitor='val_accuracy', \n",
        "                             save_weights_only=True, \n",
        "                             save_best_only=False, \n",
        "                             save_freq='epoch')\n"
      ],
      "metadata": {
        "id": "GSd_GEj4A8Y0"
      },
      "id": "GSd_GEj4A8Y0",
      "execution_count": 39,
      "outputs": []
    },
    {
      "cell_type": "code",
      "execution_count": 44,
      "id": "dfd74b10",
      "metadata": {
        "id": "dfd74b10"
      },
      "outputs": [],
      "source": [
        "model.compile(loss=\"categorical_crossentropy\", optimizer=\"adam\", metrics=[\"accuracy\"])"
      ]
    },
    {
      "cell_type": "code",
      "execution_count": 45,
      "id": "6c36cf2b",
      "metadata": {
        "id": "6c36cf2b",
        "outputId": "76b2cd04-08d7-4b3f-943b-7d674f525372",
        "colab": {
          "base_uri": "https://localhost:8080/"
        }
      },
      "outputs": [
        {
          "output_type": "stream",
          "name": "stdout",
          "text": [
            "Epoch 1/50\n",
            "379/379 [==============================] - 8s 15ms/step - loss: 0.5918 - accuracy: 0.7844 - val_loss: 0.3741 - val_accuracy: 0.8636\n",
            "Epoch 2/50\n",
            "379/379 [==============================] - 5s 14ms/step - loss: 0.3592 - accuracy: 0.8694 - val_loss: 0.3417 - val_accuracy: 0.8762\n",
            "Epoch 3/50\n",
            "379/379 [==============================] - 5s 14ms/step - loss: 0.2805 - accuracy: 0.8971 - val_loss: 0.2949 - val_accuracy: 0.9014\n",
            "Epoch 4/50\n",
            "379/379 [==============================] - 5s 14ms/step - loss: 0.2285 - accuracy: 0.9140 - val_loss: 0.2928 - val_accuracy: 0.8947\n",
            "Epoch 5/50\n",
            "379/379 [==============================] - 6s 15ms/step - loss: 0.1839 - accuracy: 0.9300 - val_loss: 0.2818 - val_accuracy: 0.9026\n",
            "Epoch 6/50\n",
            "379/379 [==============================] - 5s 14ms/step - loss: 0.1533 - accuracy: 0.9449 - val_loss: 0.2849 - val_accuracy: 0.9043\n",
            "Epoch 7/50\n",
            "379/379 [==============================] - 5s 14ms/step - loss: 0.1258 - accuracy: 0.9528 - val_loss: 0.2900 - val_accuracy: 0.9096\n",
            "Epoch 8/50\n",
            "379/379 [==============================] - 5s 14ms/step - loss: 0.1008 - accuracy: 0.9616 - val_loss: 0.3239 - val_accuracy: 0.9090\n",
            "Epoch 9/50\n",
            "379/379 [==============================] - 5s 14ms/step - loss: 0.0832 - accuracy: 0.9704 - val_loss: 0.3430 - val_accuracy: 0.9087\n",
            "Epoch 10/50\n",
            "379/379 [==============================] - 5s 14ms/step - loss: 0.0628 - accuracy: 0.9784 - val_loss: 0.3776 - val_accuracy: 0.9046\n",
            "Epoch 11/50\n",
            "379/379 [==============================] - 5s 14ms/step - loss: 0.0614 - accuracy: 0.9793 - val_loss: 0.3836 - val_accuracy: 0.9082\n",
            "Epoch 12/50\n",
            "379/379 [==============================] - 5s 13ms/step - loss: 0.0546 - accuracy: 0.9792 - val_loss: 0.3999 - val_accuracy: 0.9155\n",
            "Epoch 13/50\n",
            "379/379 [==============================] - 5s 14ms/step - loss: 0.0529 - accuracy: 0.9805 - val_loss: 0.4842 - val_accuracy: 0.9114\n",
            "Epoch 14/50\n",
            "379/379 [==============================] - 5s 14ms/step - loss: 0.0381 - accuracy: 0.9866 - val_loss: 0.5213 - val_accuracy: 0.9090\n",
            "Epoch 15/50\n",
            "379/379 [==============================] - 5s 13ms/step - loss: 0.0410 - accuracy: 0.9856 - val_loss: 0.5273 - val_accuracy: 0.9079\n",
            "Epoch 16/50\n",
            "379/379 [==============================] - 5s 14ms/step - loss: 0.0413 - accuracy: 0.9853 - val_loss: 0.4822 - val_accuracy: 0.9067\n",
            "Epoch 17/50\n",
            "379/379 [==============================] - 5s 14ms/step - loss: 0.0329 - accuracy: 0.9886 - val_loss: 0.5684 - val_accuracy: 0.9055\n",
            "Epoch 18/50\n",
            "379/379 [==============================] - 5s 14ms/step - loss: 0.0335 - accuracy: 0.9891 - val_loss: 0.4689 - val_accuracy: 0.9085\n",
            "Epoch 19/50\n",
            "379/379 [==============================] - 5s 14ms/step - loss: 0.0324 - accuracy: 0.9888 - val_loss: 0.5949 - val_accuracy: 0.9055\n",
            "Epoch 20/50\n",
            "379/379 [==============================] - 5s 13ms/step - loss: 0.0313 - accuracy: 0.9897 - val_loss: 0.5587 - val_accuracy: 0.9087\n",
            "Epoch 21/50\n",
            "379/379 [==============================] - 5s 13ms/step - loss: 0.0301 - accuracy: 0.9898 - val_loss: 0.5872 - val_accuracy: 0.9017\n",
            "Epoch 22/50\n",
            "379/379 [==============================] - 5s 14ms/step - loss: 0.0290 - accuracy: 0.9902 - val_loss: 0.5357 - val_accuracy: 0.9076\n",
            "Epoch 23/50\n",
            "379/379 [==============================] - 5s 14ms/step - loss: 0.0266 - accuracy: 0.9906 - val_loss: 0.6074 - val_accuracy: 0.9026\n",
            "Epoch 24/50\n",
            "379/379 [==============================] - 5s 14ms/step - loss: 0.0217 - accuracy: 0.9924 - val_loss: 0.7052 - val_accuracy: 0.9038\n",
            "Epoch 25/50\n",
            "379/379 [==============================] - 5s 13ms/step - loss: 0.0305 - accuracy: 0.9897 - val_loss: 0.5928 - val_accuracy: 0.9082\n",
            "Epoch 26/50\n",
            "379/379 [==============================] - 5s 13ms/step - loss: 0.0224 - accuracy: 0.9925 - val_loss: 0.6018 - val_accuracy: 0.9099\n",
            "Epoch 27/50\n",
            "379/379 [==============================] - 5s 14ms/step - loss: 0.0210 - accuracy: 0.9927 - val_loss: 0.6476 - val_accuracy: 0.9061\n",
            "Epoch 28/50\n",
            "379/379 [==============================] - 5s 13ms/step - loss: 0.0250 - accuracy: 0.9928 - val_loss: 0.7014 - val_accuracy: 0.9087\n",
            "Epoch 29/50\n",
            "379/379 [==============================] - 5s 14ms/step - loss: 0.0238 - accuracy: 0.9924 - val_loss: 0.6573 - val_accuracy: 0.9090\n",
            "Epoch 30/50\n",
            "379/379 [==============================] - 5s 14ms/step - loss: 0.0232 - accuracy: 0.9923 - val_loss: 0.6938 - val_accuracy: 0.9093\n",
            "Epoch 31/50\n",
            "379/379 [==============================] - 5s 14ms/step - loss: 0.0218 - accuracy: 0.9925 - val_loss: 0.6310 - val_accuracy: 0.9120\n",
            "Epoch 32/50\n",
            "379/379 [==============================] - 5s 14ms/step - loss: 0.0151 - accuracy: 0.9951 - val_loss: 0.7330 - val_accuracy: 0.9108\n",
            "Epoch 33/50\n",
            "379/379 [==============================] - 5s 14ms/step - loss: 0.0241 - accuracy: 0.9923 - val_loss: 0.7668 - val_accuracy: 0.9082\n",
            "Epoch 34/50\n",
            "379/379 [==============================] - 5s 14ms/step - loss: 0.0175 - accuracy: 0.9948 - val_loss: 0.7095 - val_accuracy: 0.9067\n",
            "Epoch 35/50\n",
            "379/379 [==============================] - 6s 15ms/step - loss: 0.0213 - accuracy: 0.9929 - val_loss: 0.6584 - val_accuracy: 0.9108\n",
            "Epoch 36/50\n",
            "379/379 [==============================] - 5s 13ms/step - loss: 0.0184 - accuracy: 0.9945 - val_loss: 0.7452 - val_accuracy: 0.9061\n",
            "Epoch 37/50\n",
            "379/379 [==============================] - 5s 14ms/step - loss: 0.0216 - accuracy: 0.9935 - val_loss: 0.7274 - val_accuracy: 0.9055\n",
            "Epoch 38/50\n",
            "379/379 [==============================] - 5s 14ms/step - loss: 0.0172 - accuracy: 0.9948 - val_loss: 0.6970 - val_accuracy: 0.9093\n",
            "Epoch 39/50\n",
            "379/379 [==============================] - 5s 14ms/step - loss: 0.0235 - accuracy: 0.9928 - val_loss: 0.7473 - val_accuracy: 0.9038\n",
            "Epoch 40/50\n",
            "379/379 [==============================] - 5s 14ms/step - loss: 0.0186 - accuracy: 0.9939 - val_loss: 0.8582 - val_accuracy: 0.9076\n",
            "Epoch 41/50\n",
            "379/379 [==============================] - 5s 13ms/step - loss: 0.0178 - accuracy: 0.9944 - val_loss: 0.8127 - val_accuracy: 0.9079\n",
            "Epoch 42/50\n",
            "379/379 [==============================] - 5s 14ms/step - loss: 0.0163 - accuracy: 0.9945 - val_loss: 0.8815 - val_accuracy: 0.9055\n",
            "Epoch 43/50\n",
            "379/379 [==============================] - 5s 14ms/step - loss: 0.0105 - accuracy: 0.9967 - val_loss: 0.7668 - val_accuracy: 0.9082\n",
            "Epoch 44/50\n",
            "379/379 [==============================] - 5s 14ms/step - loss: 0.0159 - accuracy: 0.9949 - val_loss: 0.8904 - val_accuracy: 0.9093\n",
            "Epoch 45/50\n",
            "379/379 [==============================] - 5s 14ms/step - loss: 0.0182 - accuracy: 0.9943 - val_loss: 0.8351 - val_accuracy: 0.9108\n",
            "Epoch 46/50\n",
            "379/379 [==============================] - 5s 14ms/step - loss: 0.0181 - accuracy: 0.9944 - val_loss: 0.8133 - val_accuracy: 0.9079\n",
            "Epoch 47/50\n",
            "379/379 [==============================] - 5s 13ms/step - loss: 0.0142 - accuracy: 0.9958 - val_loss: 0.8303 - val_accuracy: 0.9093\n",
            "Epoch 48/50\n",
            "379/379 [==============================] - 5s 13ms/step - loss: 0.0186 - accuracy: 0.9941 - val_loss: 0.8892 - val_accuracy: 0.9114\n",
            "Epoch 49/50\n",
            "379/379 [==============================] - 5s 13ms/step - loss: 0.0294 - accuracy: 0.9921 - val_loss: 0.6521 - val_accuracy: 0.9067\n",
            "Epoch 50/50\n",
            "379/379 [==============================] - 5s 14ms/step - loss: 0.0203 - accuracy: 0.9948 - val_loss: 0.7894 - val_accuracy: 0.9090\n"
          ]
        },
        {
          "output_type": "execute_result",
          "data": {
            "text/plain": [
              "<keras.callbacks.History at 0x7f7745b813c0>"
            ]
          },
          "metadata": {},
          "execution_count": 45
        }
      ],
      "source": [
        "model.fit(x=X_train, y=y_train,epochs=50, batch_size=36, verbose=1, validation_data=(X_test, y_test),callbacks=[checkpoint])"
      ]
    },
    {
      "cell_type": "code",
      "source": [
        "K.clear_session()"
      ],
      "metadata": {
        "id": "a16BtjjP6qrP"
      },
      "id": "a16BtjjP6qrP",
      "execution_count": 43,
      "outputs": []
    },
    {
      "cell_type": "code",
      "execution_count": 66,
      "id": "cc360ea6",
      "metadata": {
        "id": "cc360ea6",
        "outputId": "0cedacaf-e5ea-4b89-d1a6-1424c51daf06",
        "colab": {
          "base_uri": "https://localhost:8080/"
        }
      },
      "outputs": [
        {
          "output_type": "stream",
          "name": "stdout",
          "text": [
            "Model: \"sequential_1\"\n",
            "_________________________________________________________________\n",
            " Layer (type)                Output Shape              Param #   \n",
            "=================================================================\n",
            " conv2d_4 (Conv2D)           (None, 28, 28, 16)        416       \n",
            "                                                                 \n",
            " conv2d_5 (Conv2D)           (None, 28, 28, 32)        2080      \n",
            "                                                                 \n",
            " dropout_3 (Dropout)         (None, 28, 28, 32)        0         \n",
            "                                                                 \n",
            " conv2d_6 (Conv2D)           (None, 28, 28, 64)        18496     \n",
            "                                                                 \n",
            " conv2d_7 (Conv2D)           (None, 28, 28, 128)       73856     \n",
            "                                                                 \n",
            " max_pooling2d_2 (MaxPooling  (None, 14, 14, 128)      0         \n",
            " 2D)                                                             \n",
            "                                                                 \n",
            " flatten_1 (Flatten)         (None, 25088)             0         \n",
            "                                                                 \n",
            " dense_2 (Dense)             (None, 518)               12996102  \n",
            "                                                                 \n",
            " dropout_4 (Dropout)         (None, 518)               0         \n",
            "                                                                 \n",
            " dense_3 (Dense)             (None, 10)                5190      \n",
            "                                                                 \n",
            "=================================================================\n",
            "Total params: 13,096,140\n",
            "Trainable params: 13,096,140\n",
            "Non-trainable params: 0\n",
            "_________________________________________________________________\n"
          ]
        }
      ],
      "source": [
        "model.summary()"
      ]
    },
    {
      "cell_type": "code",
      "source": [
        "plot_model(model, show_shapes = True)"
      ],
      "metadata": {
        "id": "cGEIRLxp75_O",
        "colab": {
          "base_uri": "https://localhost:8080/",
          "height": 1000
        },
        "outputId": "0cbc689f-90aa-4266-a694-4acab2243676"
      },
      "id": "cGEIRLxp75_O",
      "execution_count": 67,
      "outputs": [
        {
          "output_type": "execute_result",
          "data": {
            "image/png": "[encoded data removed]",
            "text/plain": [
              "<IPython.core.display.Image object>"
            ]
          },
          "metadata": {},
          "execution_count": 67
        }
      ]
    },
    {
      "cell_type": "code",
      "source": [
        "score = model.evaluate(X_test, y_test)\n",
        "\n",
        "print('Loss: {:.2f}'.format(score[0]))\n",
        "print('Accuracy: {:.2f}'.format(score[1]))"
      ],
      "metadata": {
        "colab": {
          "base_uri": "https://localhost:8080/"
        },
        "id": "SoUhm0BWV0cE",
        "outputId": "2e5f49ee-ade1-43e0-eedb-ea9e2e6439e1"
      },
      "id": "SoUhm0BWV0cE",
      "execution_count": 48,
      "outputs": [
        {
          "output_type": "stream",
          "name": "stdout",
          "text": [
            "107/107 [==============================] - 0s 4ms/step - loss: 0.4842 - accuracy: 0.9114\n",
            "Loss: 0.48\n",
            "Accuracy: 0.91\n"
          ]
        }
      ]
    },
    {
      "cell_type": "code",
      "source": [
        "test = pd.read_csv('/content/drive/MyDrive/Colab Notebooks/fmnist_test.csv')"
      ],
      "metadata": {
        "id": "wTdEkTjG8kJz"
      },
      "id": "wTdEkTjG8kJz",
      "execution_count": 49,
      "outputs": []
    },
    {
      "cell_type": "code",
      "source": [
        "test"
      ],
      "metadata": {
        "colab": {
          "base_uri": "https://localhost:8080/",
          "height": 487
        },
        "id": "4iFCI1d7MMHS",
        "outputId": "9229d02e-dd39-4f0a-c73f-ea74d6e0e921"
      },
      "id": "4iFCI1d7MMHS",
      "execution_count": 50,
      "outputs": [
        {
          "output_type": "execute_result",
          "data": {
            "text/plain": [
              "      pixel1  pixel2  pixel3  pixel4  pixel5  pixel6  pixel7  pixel8  pixel9  \\\n",
              "0          0       0       0       0       0       0       0       9       8   \n",
              "1          0       0       0       0       0       0       0       0       0   \n",
              "2          0       0       0       0       0       0      14      53      99   \n",
              "3          0       0       0       0       0       0       0       0       0   \n",
              "4          0       0       0       0       0       0       0       0       0   \n",
              "...      ...     ...     ...     ...     ...     ...     ...     ...     ...   \n",
              "9995       0       0       0       0       0       0       0       0       0   \n",
              "9996       0       0       0       0       0       0       0       0       0   \n",
              "9997       0       0       0       0       0       0       0       0       0   \n",
              "9998       0       1       3       0       0       0       0       0       0   \n",
              "9999       0       0       0       0       0       0       0     140     119   \n",
              "\n",
              "      pixel10  ...  pixel776  pixel777  pixel778  pixel779  pixel780  \\\n",
              "0           0  ...        87        56         0         0         0   \n",
              "1           0  ...         0         0         0         0         0   \n",
              "2          17  ...         0         0         0        63        53   \n",
              "3         161  ...       126       140         0       133       224   \n",
              "4           0  ...         0         0         0         0         0   \n",
              "...       ...  ...       ...       ...       ...       ...       ...   \n",
              "9995       37  ...        23        14        20         0         0   \n",
              "9996        0  ...         0         0         2        52        23   \n",
              "9997        0  ...       172       172       182       199       222   \n",
              "9998        0  ...         0         0         0         0         1   \n",
              "9999      103  ...        95        75        44         1         0   \n",
              "\n",
              "      pixel781  pixel782  pixel783  pixel784    Id  \n",
              "0            0         0         0         0     0  \n",
              "1            0         0         0         0     1  \n",
              "2           31         0         0         0     2  \n",
              "3          222        56         0         0     3  \n",
              "4            0         0         0         0     4  \n",
              "...        ...       ...       ...       ...   ...  \n",
              "9995         1         0         0         0  9995  \n",
              "9996        28         0         0         0  9996  \n",
              "9997        42         0         1         0  9997  \n",
              "9998         0         0         0         0  9998  \n",
              "9999         0         0         0         0  9999  \n",
              "\n",
              "[10000 rows x 785 columns]"
            ],
            "text/html": [
              "\n",
              "  <div id=\"df-ff0c6109-a536-4236-bfb9-48404f79b976\">\n",
              "    <div class=\"colab-df-container\">\n",
              "      <div>\n",
              "<style scoped>\n",
              "    .dataframe tbody tr th:only-of-type {\n",
              "        vertical-align: middle;\n",
              "    }\n",
              "\n",
              "    .dataframe tbody tr th {\n",
              "        vertical-align: top;\n",
              "    }\n",
              "\n",
              "    .dataframe thead th {\n",
              "        text-align: right;\n",
              "    }\n",
              "</style>\n",
              "<table border=\"1\" class=\"dataframe\">\n",
              "  <thead>\n",
              "    <tr style=\"text-align: right;\">\n",
              "      <th></th>\n",
              "      <th>pixel1</th>\n",
              "      <th>pixel2</th>\n",
              "      <th>pixel3</th>\n",
              "      <th>pixel4</th>\n",
              "      <th>pixel5</th>\n",
              "      <th>pixel6</th>\n",
              "      <th>pixel7</th>\n",
              "      <th>pixel8</th>\n",
              "      <th>pixel9</th>\n",
              "      <th>pixel10</th>\n",
              "      <th>...</th>\n",
              "      <th>pixel776</th>\n",
              "      <th>pixel777</th>\n",
              "      <th>pixel778</th>\n",
              "      <th>pixel779</th>\n",
              "      <th>pixel780</th>\n",
              "      <th>pixel781</th>\n",
              "      <th>pixel782</th>\n",
              "      <th>pixel783</th>\n",
              "      <th>pixel784</th>\n",
              "      <th>Id</th>\n",
              "    </tr>\n",
              "  </thead>\n",
              "  <tbody>\n",
              "    <tr>\n",
              "      <th>0</th>\n",
              "      <td>0</td>\n",
              "      <td>0</td>\n",
              "      <td>0</td>\n",
              "      <td>0</td>\n",
              "      <td>0</td>\n",
              "      <td>0</td>\n",
              "      <td>0</td>\n",
              "      <td>9</td>\n",
              "      <td>8</td>\n",
              "      <td>0</td>\n",
              "      <td>...</td>\n",
              "      <td>87</td>\n",
              "      <td>56</td>\n",
              "      <td>0</td>\n",
              "      <td>0</td>\n",
              "      <td>0</td>\n",
              "      <td>0</td>\n",
              "      <td>0</td>\n",
              "      <td>0</td>\n",
              "      <td>0</td>\n",
              "      <td>0</td>\n",
              "    </tr>\n",
              "    <tr>\n",
              "      <th>1</th>\n",
              "      <td>0</td>\n",
              "      <td>0</td>\n",
              "      <td>0</td>\n",
              "      <td>0</td>\n",
              "      <td>0</td>\n",
              "      <td>0</td>\n",
              "      <td>0</td>\n",
              "      <td>0</td>\n",
              "      <td>0</td>\n",
              "      <td>0</td>\n",
              "      <td>...</td>\n",
              "      <td>0</td>\n",
              "      <td>0</td>\n",
              "      <td>0</td>\n",
              "      <td>0</td>\n",
              "      <td>0</td>\n",
              "      <td>0</td>\n",
              "      <td>0</td>\n",
              "      <td>0</td>\n",
              "      <td>0</td>\n",
              "      <td>1</td>\n",
              "    </tr>\n",
              "    <tr>\n",
              "      <th>2</th>\n",
              "      <td>0</td>\n",
              "      <td>0</td>\n",
              "      <td>0</td>\n",
              "      <td>0</td>\n",
              "      <td>0</td>\n",
              "      <td>0</td>\n",
              "      <td>14</td>\n",
              "      <td>53</td>\n",
              "      <td>99</td>\n",
              "      <td>17</td>\n",
              "      <td>...</td>\n",
              "      <td>0</td>\n",
              "      <td>0</td>\n",
              "      <td>0</td>\n",
              "      <td>63</td>\n",
              "      <td>53</td>\n",
              "      <td>31</td>\n",
              "      <td>0</td>\n",
              "      <td>0</td>\n",
              "      <td>0</td>\n",
              "      <td>2</td>\n",
              "    </tr>\n",
              "    <tr>\n",
              "      <th>3</th>\n",
              "      <td>0</td>\n",
              "      <td>0</td>\n",
              "      <td>0</td>\n",
              "      <td>0</td>\n",
              "      <td>0</td>\n",
              "      <td>0</td>\n",
              "      <td>0</td>\n",
              "      <td>0</td>\n",
              "      <td>0</td>\n",
              "      <td>161</td>\n",
              "      <td>...</td>\n",
              "      <td>126</td>\n",
              "      <td>140</td>\n",
              "      <td>0</td>\n",
              "      <td>133</td>\n",
              "      <td>224</td>\n",
              "      <td>222</td>\n",
              "      <td>56</td>\n",
              "      <td>0</td>\n",
              "      <td>0</td>\n",
              "      <td>3</td>\n",
              "    </tr>\n",
              "    <tr>\n",
              "      <th>4</th>\n",
              "      <td>0</td>\n",
              "      <td>0</td>\n",
              "      <td>0</td>\n",
              "      <td>0</td>\n",
              "      <td>0</td>\n",
              "      <td>0</td>\n",
              "      <td>0</td>\n",
              "      <td>0</td>\n",
              "      <td>0</td>\n",
              "      <td>0</td>\n",
              "      <td>...</td>\n",
              "      <td>0</td>\n",
              "      <td>0</td>\n",
              "      <td>0</td>\n",
              "      <td>0</td>\n",
              "      <td>0</td>\n",
              "      <td>0</td>\n",
              "      <td>0</td>\n",
              "      <td>0</td>\n",
              "      <td>0</td>\n",
              "      <td>4</td>\n",
              "    </tr>\n",
              "    <tr>\n",
              "      <th>...</th>\n",
              "      <td>...</td>\n",
              "      <td>...</td>\n",
              "      <td>...</td>\n",
              "      <td>...</td>\n",
              "      <td>...</td>\n",
              "      <td>...</td>\n",
              "      <td>...</td>\n",
              "      <td>...</td>\n",
              "      <td>...</td>\n",
              "      <td>...</td>\n",
              "      <td>...</td>\n",
              "      <td>...</td>\n",
              "      <td>...</td>\n",
              "      <td>...</td>\n",
              "      <td>...</td>\n",
              "      <td>...</td>\n",
              "      <td>...</td>\n",
              "      <td>...</td>\n",
              "      <td>...</td>\n",
              "      <td>...</td>\n",
              "      <td>...</td>\n",
              "    </tr>\n",
              "    <tr>\n",
              "      <th>9995</th>\n",
              "      <td>0</td>\n",
              "      <td>0</td>\n",
              "      <td>0</td>\n",
              "      <td>0</td>\n",
              "      <td>0</td>\n",
              "      <td>0</td>\n",
              "      <td>0</td>\n",
              "      <td>0</td>\n",
              "      <td>0</td>\n",
              "      <td>37</td>\n",
              "      <td>...</td>\n",
              "      <td>23</td>\n",
              "      <td>14</td>\n",
              "      <td>20</td>\n",
              "      <td>0</td>\n",
              "      <td>0</td>\n",
              "      <td>1</td>\n",
              "      <td>0</td>\n",
              "      <td>0</td>\n",
              "      <td>0</td>\n",
              "      <td>9995</td>\n",
              "    </tr>\n",
              "    <tr>\n",
              "      <th>9996</th>\n",
              "      <td>0</td>\n",
              "      <td>0</td>\n",
              "      <td>0</td>\n",
              "      <td>0</td>\n",
              "      <td>0</td>\n",
              "      <td>0</td>\n",
              "      <td>0</td>\n",
              "      <td>0</td>\n",
              "      <td>0</td>\n",
              "      <td>0</td>\n",
              "      <td>...</td>\n",
              "      <td>0</td>\n",
              "      <td>0</td>\n",
              "      <td>2</td>\n",
              "      <td>52</td>\n",
              "      <td>23</td>\n",
              "      <td>28</td>\n",
              "      <td>0</td>\n",
              "      <td>0</td>\n",
              "      <td>0</td>\n",
              "      <td>9996</td>\n",
              "    </tr>\n",
              "    <tr>\n",
              "      <th>9997</th>\n",
              "      <td>0</td>\n",
              "      <td>0</td>\n",
              "      <td>0</td>\n",
              "      <td>0</td>\n",
              "      <td>0</td>\n",
              "      <td>0</td>\n",
              "      <td>0</td>\n",
              "      <td>0</td>\n",
              "      <td>0</td>\n",
              "      <td>0</td>\n",
              "      <td>...</td>\n",
              "      <td>172</td>\n",
              "      <td>172</td>\n",
              "      <td>182</td>\n",
              "      <td>199</td>\n",
              "      <td>222</td>\n",
              "      <td>42</td>\n",
              "      <td>0</td>\n",
              "      <td>1</td>\n",
              "      <td>0</td>\n",
              "      <td>9997</td>\n",
              "    </tr>\n",
              "    <tr>\n",
              "      <th>9998</th>\n",
              "      <td>0</td>\n",
              "      <td>1</td>\n",
              "      <td>3</td>\n",
              "      <td>0</td>\n",
              "      <td>0</td>\n",
              "      <td>0</td>\n",
              "      <td>0</td>\n",
              "      <td>0</td>\n",
              "      <td>0</td>\n",
              "      <td>0</td>\n",
              "      <td>...</td>\n",
              "      <td>0</td>\n",
              "      <td>0</td>\n",
              "      <td>0</td>\n",
              "      <td>0</td>\n",
              "      <td>1</td>\n",
              "      <td>0</td>\n",
              "      <td>0</td>\n",
              "      <td>0</td>\n",
              "      <td>0</td>\n",
              "      <td>9998</td>\n",
              "    </tr>\n",
              "    <tr>\n",
              "      <th>9999</th>\n",
              "      <td>0</td>\n",
              "      <td>0</td>\n",
              "      <td>0</td>\n",
              "      <td>0</td>\n",
              "      <td>0</td>\n",
              "      <td>0</td>\n",
              "      <td>0</td>\n",
              "      <td>140</td>\n",
              "      <td>119</td>\n",
              "      <td>103</td>\n",
              "      <td>...</td>\n",
              "      <td>95</td>\n",
              "      <td>75</td>\n",
              "      <td>44</td>\n",
              "      <td>1</td>\n",
              "      <td>0</td>\n",
              "      <td>0</td>\n",
              "      <td>0</td>\n",
              "      <td>0</td>\n",
              "      <td>0</td>\n",
              "      <td>9999</td>\n",
              "    </tr>\n",
              "  </tbody>\n",
              "</table>\n",
              "<p>10000 rows × 785 columns</p>\n",
              "</div>\n",
              "      <button class=\"colab-df-convert\" onclick=\"convertToInteractive('df-ff0c6109-a536-4236-bfb9-48404f79b976')\"\n",
              "              title=\"Convert this dataframe to an interactive table.\"\n",
              "              style=\"display:none;\">\n",
              "        \n",
              "  <svg xmlns=\"http://www.w3.org/2000/svg\" height=\"24px\"viewBox=\"0 0 24 24\"\n",
              "       width=\"24px\">\n",
              "    <path d=\"M0 0h24v24H0V0z\" fill=\"none\"/>\n",
              "    <path d=\"M18.56 5.44l.94 2.06.94-2.06 2.06-.94-2.06-.94-.94-2.06-.94 2.06-2.06.94zm-11 1L8.5 8.5l.94-2.06 2.06-.94-2.06-.94L8.5 2.5l-.94 2.06-2.06.94zm10 10l.94 2.06.94-2.06 2.06-.94-2.06-.94-.94-2.06-.94 2.06-2.06.94z\"/><path d=\"M17.41 7.96l-1.37-1.37c-.4-.4-.92-.59-1.43-.59-.52 0-1.04.2-1.43.59L10.3 9.45l-7.72 7.72c-.78.78-.78 2.05 0 2.83L4 21.41c.39.39.9.59 1.41.59.51 0 1.02-.2 1.41-.59l7.78-7.78 2.81-2.81c.8-.78.8-2.07 0-2.86zM5.41 20L4 18.59l7.72-7.72 1.47 1.35L5.41 20z\"/>\n",
              "  </svg>\n",
              "      </button>\n",
              "      \n",
              "  <style>\n",
              "    .colab-df-container {\n",
              "      display:flex;\n",
              "      flex-wrap:wrap;\n",
              "      gap: 12px;\n",
              "    }\n",
              "\n",
              "    .colab-df-convert {\n",
              "      background-color: #E8F0FE;\n",
              "      border: none;\n",
              "      border-radius: 50%;\n",
              "      cursor: pointer;\n",
              "      display: none;\n",
              "      fill: #1967D2;\n",
              "      height: 32px;\n",
              "      padding: 0 0 0 0;\n",
              "      width: 32px;\n",
              "    }\n",
              "\n",
              "    .colab-df-convert:hover {\n",
              "      background-color: #E2EBFA;\n",
              "      box-shadow: 0px 1px 2px rgba(60, 64, 67, 0.3), 0px 1px 3px 1px rgba(60, 64, 67, 0.15);\n",
              "      fill: #174EA6;\n",
              "    }\n",
              "\n",
              "    [theme=dark] .colab-df-convert {\n",
              "      background-color: #3B4455;\n",
              "      fill: #D2E3FC;\n",
              "    }\n",
              "\n",
              "    [theme=dark] .colab-df-convert:hover {\n",
              "      background-color: #434B5C;\n",
              "      box-shadow: 0px 1px 3px 1px rgba(0, 0, 0, 0.15);\n",
              "      filter: drop-shadow(0px 1px 2px rgba(0, 0, 0, 0.3));\n",
              "      fill: #FFFFFF;\n",
              "    }\n",
              "  </style>\n",
              "\n",
              "      <script>\n",
              "        const buttonEl =\n",
              "          document.querySelector('#df-ff0c6109-a536-4236-bfb9-48404f79b976 button.colab-df-convert');\n",
              "        buttonEl.style.display =\n",
              "          google.colab.kernel.accessAllowed ? 'block' : 'none';\n",
              "\n",
              "        async function convertToInteractive(key) {\n",
              "          const element = document.querySelector('#df-ff0c6109-a536-4236-bfb9-48404f79b976');\n",
              "          const dataTable =\n",
              "            await google.colab.kernel.invokeFunction('convertToInteractive',\n",
              "                                                     [key], {});\n",
              "          if (!dataTable) return;\n",
              "\n",
              "          const docLinkHtml = 'Like what you see? Visit the ' +\n",
              "            '<a target=\"_blank\" href=https://colab.research.google.com/notebooks/data_table.ipynb>data table notebook</a>'\n",
              "            + ' to learn more about interactive tables.';\n",
              "          element.innerHTML = '';\n",
              "          dataTable['output_type'] = 'display_data';\n",
              "          await google.colab.output.renderOutput(dataTable, element);\n",
              "          const docLink = document.createElement('div');\n",
              "          docLink.innerHTML = docLinkHtml;\n",
              "          element.appendChild(docLink);\n",
              "        }\n",
              "      </script>\n",
              "    </div>\n",
              "  </div>\n",
              "  "
            ]
          },
          "metadata": {},
          "execution_count": 50
        }
      ]
    },
    {
      "cell_type": "code",
      "source": [
        "test = test.drop(test.columns[-1], axis=1)\n",
        "test"
      ],
      "metadata": {
        "colab": {
          "base_uri": "https://localhost:8080/",
          "height": 487
        },
        "id": "R0RjyIzjMX7P",
        "outputId": "6ce33c4b-65d7-438b-e039-2f4981c58f9e"
      },
      "id": "R0RjyIzjMX7P",
      "execution_count": 51,
      "outputs": [
        {
          "output_type": "execute_result",
          "data": {
            "text/plain": [
              "      pixel1  pixel2  pixel3  pixel4  pixel5  pixel6  pixel7  pixel8  pixel9  \\\n",
              "0          0       0       0       0       0       0       0       9       8   \n",
              "1          0       0       0       0       0       0       0       0       0   \n",
              "2          0       0       0       0       0       0      14      53      99   \n",
              "3          0       0       0       0       0       0       0       0       0   \n",
              "4          0       0       0       0       0       0       0       0       0   \n",
              "...      ...     ...     ...     ...     ...     ...     ...     ...     ...   \n",
              "9995       0       0       0       0       0       0       0       0       0   \n",
              "9996       0       0       0       0       0       0       0       0       0   \n",
              "9997       0       0       0       0       0       0       0       0       0   \n",
              "9998       0       1       3       0       0       0       0       0       0   \n",
              "9999       0       0       0       0       0       0       0     140     119   \n",
              "\n",
              "      pixel10  ...  pixel775  pixel776  pixel777  pixel778  pixel779  \\\n",
              "0           0  ...       103        87        56         0         0   \n",
              "1           0  ...        34         0         0         0         0   \n",
              "2          17  ...         0         0         0         0        63   \n",
              "3         161  ...       137       126       140         0       133   \n",
              "4           0  ...         0         0         0         0         0   \n",
              "...       ...  ...       ...       ...       ...       ...       ...   \n",
              "9995       37  ...        32        23        14        20         0   \n",
              "9996        0  ...         0         0         0         2        52   \n",
              "9997        0  ...       175       172       172       182       199   \n",
              "9998        0  ...         0         0         0         0         0   \n",
              "9999      103  ...       111        95        75        44         1   \n",
              "\n",
              "      pixel780  pixel781  pixel782  pixel783  pixel784  \n",
              "0            0         0         0         0         0  \n",
              "1            0         0         0         0         0  \n",
              "2           53        31         0         0         0  \n",
              "3          224       222        56         0         0  \n",
              "4            0         0         0         0         0  \n",
              "...        ...       ...       ...       ...       ...  \n",
              "9995         0         1         0         0         0  \n",
              "9996        23        28         0         0         0  \n",
              "9997       222        42         0         1         0  \n",
              "9998         1         0         0         0         0  \n",
              "9999         0         0         0         0         0  \n",
              "\n",
              "[10000 rows x 784 columns]"
            ],
            "text/html": [
              "\n",
              "  <div id=\"df-3bacedfa-6296-46a4-a534-bcec5bb485b8\">\n",
              "    <div class=\"colab-df-container\">\n",
              "      <div>\n",
              "<style scoped>\n",
              "    .dataframe tbody tr th:only-of-type {\n",
              "        vertical-align: middle;\n",
              "    }\n",
              "\n",
              "    .dataframe tbody tr th {\n",
              "        vertical-align: top;\n",
              "    }\n",
              "\n",
              "    .dataframe thead th {\n",
              "        text-align: right;\n",
              "    }\n",
              "</style>\n",
              "<table border=\"1\" class=\"dataframe\">\n",
              "  <thead>\n",
              "    <tr style=\"text-align: right;\">\n",
              "      <th></th>\n",
              "      <th>pixel1</th>\n",
              "      <th>pixel2</th>\n",
              "      <th>pixel3</th>\n",
              "      <th>pixel4</th>\n",
              "      <th>pixel5</th>\n",
              "      <th>pixel6</th>\n",
              "      <th>pixel7</th>\n",
              "      <th>pixel8</th>\n",
              "      <th>pixel9</th>\n",
              "      <th>pixel10</th>\n",
              "      <th>...</th>\n",
              "      <th>pixel775</th>\n",
              "      <th>pixel776</th>\n",
              "      <th>pixel777</th>\n",
              "      <th>pixel778</th>\n",
              "      <th>pixel779</th>\n",
              "      <th>pixel780</th>\n",
              "      <th>pixel781</th>\n",
              "      <th>pixel782</th>\n",
              "      <th>pixel783</th>\n",
              "      <th>pixel784</th>\n",
              "    </tr>\n",
              "  </thead>\n",
              "  <tbody>\n",
              "    <tr>\n",
              "      <th>0</th>\n",
              "      <td>0</td>\n",
              "      <td>0</td>\n",
              "      <td>0</td>\n",
              "      <td>0</td>\n",
              "      <td>0</td>\n",
              "      <td>0</td>\n",
              "      <td>0</td>\n",
              "      <td>9</td>\n",
              "      <td>8</td>\n",
              "      <td>0</td>\n",
              "      <td>...</td>\n",
              "      <td>103</td>\n",
              "      <td>87</td>\n",
              "      <td>56</td>\n",
              "      <td>0</td>\n",
              "      <td>0</td>\n",
              "      <td>0</td>\n",
              "      <td>0</td>\n",
              "      <td>0</td>\n",
              "      <td>0</td>\n",
              "      <td>0</td>\n",
              "    </tr>\n",
              "    <tr>\n",
              "      <th>1</th>\n",
              "      <td>0</td>\n",
              "      <td>0</td>\n",
              "      <td>0</td>\n",
              "      <td>0</td>\n",
              "      <td>0</td>\n",
              "      <td>0</td>\n",
              "      <td>0</td>\n",
              "      <td>0</td>\n",
              "      <td>0</td>\n",
              "      <td>0</td>\n",
              "      <td>...</td>\n",
              "      <td>34</td>\n",
              "      <td>0</td>\n",
              "      <td>0</td>\n",
              "      <td>0</td>\n",
              "      <td>0</td>\n",
              "      <td>0</td>\n",
              "      <td>0</td>\n",
              "      <td>0</td>\n",
              "      <td>0</td>\n",
              "      <td>0</td>\n",
              "    </tr>\n",
              "    <tr>\n",
              "      <th>2</th>\n",
              "      <td>0</td>\n",
              "      <td>0</td>\n",
              "      <td>0</td>\n",
              "      <td>0</td>\n",
              "      <td>0</td>\n",
              "      <td>0</td>\n",
              "      <td>14</td>\n",
              "      <td>53</td>\n",
              "      <td>99</td>\n",
              "      <td>17</td>\n",
              "      <td>...</td>\n",
              "      <td>0</td>\n",
              "      <td>0</td>\n",
              "      <td>0</td>\n",
              "      <td>0</td>\n",
              "      <td>63</td>\n",
              "      <td>53</td>\n",
              "      <td>31</td>\n",
              "      <td>0</td>\n",
              "      <td>0</td>\n",
              "      <td>0</td>\n",
              "    </tr>\n",
              "    <tr>\n",
              "      <th>3</th>\n",
              "      <td>0</td>\n",
              "      <td>0</td>\n",
              "      <td>0</td>\n",
              "      <td>0</td>\n",
              "      <td>0</td>\n",
              "      <td>0</td>\n",
              "      <td>0</td>\n",
              "      <td>0</td>\n",
              "      <td>0</td>\n",
              "      <td>161</td>\n",
              "      <td>...</td>\n",
              "      <td>137</td>\n",
              "      <td>126</td>\n",
              "      <td>140</td>\n",
              "      <td>0</td>\n",
              "      <td>133</td>\n",
              "      <td>224</td>\n",
              "      <td>222</td>\n",
              "      <td>56</td>\n",
              "      <td>0</td>\n",
              "      <td>0</td>\n",
              "    </tr>\n",
              "    <tr>\n",
              "      <th>4</th>\n",
              "      <td>0</td>\n",
              "      <td>0</td>\n",
              "      <td>0</td>\n",
              "      <td>0</td>\n",
              "      <td>0</td>\n",
              "      <td>0</td>\n",
              "      <td>0</td>\n",
              "      <td>0</td>\n",
              "      <td>0</td>\n",
              "      <td>0</td>\n",
              "      <td>...</td>\n",
              "      <td>0</td>\n",
              "      <td>0</td>\n",
              "      <td>0</td>\n",
              "      <td>0</td>\n",
              "      <td>0</td>\n",
              "      <td>0</td>\n",
              "      <td>0</td>\n",
              "      <td>0</td>\n",
              "      <td>0</td>\n",
              "      <td>0</td>\n",
              "    </tr>\n",
              "    <tr>\n",
              "      <th>...</th>\n",
              "      <td>...</td>\n",
              "      <td>...</td>\n",
              "      <td>...</td>\n",
              "      <td>...</td>\n",
              "      <td>...</td>\n",
              "      <td>...</td>\n",
              "      <td>...</td>\n",
              "      <td>...</td>\n",
              "      <td>...</td>\n",
              "      <td>...</td>\n",
              "      <td>...</td>\n",
              "      <td>...</td>\n",
              "      <td>...</td>\n",
              "      <td>...</td>\n",
              "      <td>...</td>\n",
              "      <td>...</td>\n",
              "      <td>...</td>\n",
              "      <td>...</td>\n",
              "      <td>...</td>\n",
              "      <td>...</td>\n",
              "      <td>...</td>\n",
              "    </tr>\n",
              "    <tr>\n",
              "      <th>9995</th>\n",
              "      <td>0</td>\n",
              "      <td>0</td>\n",
              "      <td>0</td>\n",
              "      <td>0</td>\n",
              "      <td>0</td>\n",
              "      <td>0</td>\n",
              "      <td>0</td>\n",
              "      <td>0</td>\n",
              "      <td>0</td>\n",
              "      <td>37</td>\n",
              "      <td>...</td>\n",
              "      <td>32</td>\n",
              "      <td>23</td>\n",
              "      <td>14</td>\n",
              "      <td>20</td>\n",
              "      <td>0</td>\n",
              "      <td>0</td>\n",
              "      <td>1</td>\n",
              "      <td>0</td>\n",
              "      <td>0</td>\n",
              "      <td>0</td>\n",
              "    </tr>\n",
              "    <tr>\n",
              "      <th>9996</th>\n",
              "      <td>0</td>\n",
              "      <td>0</td>\n",
              "      <td>0</td>\n",
              "      <td>0</td>\n",
              "      <td>0</td>\n",
              "      <td>0</td>\n",
              "      <td>0</td>\n",
              "      <td>0</td>\n",
              "      <td>0</td>\n",
              "      <td>0</td>\n",
              "      <td>...</td>\n",
              "      <td>0</td>\n",
              "      <td>0</td>\n",
              "      <td>0</td>\n",
              "      <td>2</td>\n",
              "      <td>52</td>\n",
              "      <td>23</td>\n",
              "      <td>28</td>\n",
              "      <td>0</td>\n",
              "      <td>0</td>\n",
              "      <td>0</td>\n",
              "    </tr>\n",
              "    <tr>\n",
              "      <th>9997</th>\n",
              "      <td>0</td>\n",
              "      <td>0</td>\n",
              "      <td>0</td>\n",
              "      <td>0</td>\n",
              "      <td>0</td>\n",
              "      <td>0</td>\n",
              "      <td>0</td>\n",
              "      <td>0</td>\n",
              "      <td>0</td>\n",
              "      <td>0</td>\n",
              "      <td>...</td>\n",
              "      <td>175</td>\n",
              "      <td>172</td>\n",
              "      <td>172</td>\n",
              "      <td>182</td>\n",
              "      <td>199</td>\n",
              "      <td>222</td>\n",
              "      <td>42</td>\n",
              "      <td>0</td>\n",
              "      <td>1</td>\n",
              "      <td>0</td>\n",
              "    </tr>\n",
              "    <tr>\n",
              "      <th>9998</th>\n",
              "      <td>0</td>\n",
              "      <td>1</td>\n",
              "      <td>3</td>\n",
              "      <td>0</td>\n",
              "      <td>0</td>\n",
              "      <td>0</td>\n",
              "      <td>0</td>\n",
              "      <td>0</td>\n",
              "      <td>0</td>\n",
              "      <td>0</td>\n",
              "      <td>...</td>\n",
              "      <td>0</td>\n",
              "      <td>0</td>\n",
              "      <td>0</td>\n",
              "      <td>0</td>\n",
              "      <td>0</td>\n",
              "      <td>1</td>\n",
              "      <td>0</td>\n",
              "      <td>0</td>\n",
              "      <td>0</td>\n",
              "      <td>0</td>\n",
              "    </tr>\n",
              "    <tr>\n",
              "      <th>9999</th>\n",
              "      <td>0</td>\n",
              "      <td>0</td>\n",
              "      <td>0</td>\n",
              "      <td>0</td>\n",
              "      <td>0</td>\n",
              "      <td>0</td>\n",
              "      <td>0</td>\n",
              "      <td>140</td>\n",
              "      <td>119</td>\n",
              "      <td>103</td>\n",
              "      <td>...</td>\n",
              "      <td>111</td>\n",
              "      <td>95</td>\n",
              "      <td>75</td>\n",
              "      <td>44</td>\n",
              "      <td>1</td>\n",
              "      <td>0</td>\n",
              "      <td>0</td>\n",
              "      <td>0</td>\n",
              "      <td>0</td>\n",
              "      <td>0</td>\n",
              "    </tr>\n",
              "  </tbody>\n",
              "</table>\n",
              "<p>10000 rows × 784 columns</p>\n",
              "</div>\n",
              "      <button class=\"colab-df-convert\" onclick=\"convertToInteractive('df-3bacedfa-6296-46a4-a534-bcec5bb485b8')\"\n",
              "              title=\"Convert this dataframe to an interactive table.\"\n",
              "              style=\"display:none;\">\n",
              "        \n",
              "  <svg xmlns=\"http://www.w3.org/2000/svg\" height=\"24px\"viewBox=\"0 0 24 24\"\n",
              "       width=\"24px\">\n",
              "    <path d=\"M0 0h24v24H0V0z\" fill=\"none\"/>\n",
              "    <path d=\"M18.56 5.44l.94 2.06.94-2.06 2.06-.94-2.06-.94-.94-2.06-.94 2.06-2.06.94zm-11 1L8.5 8.5l.94-2.06 2.06-.94-2.06-.94L8.5 2.5l-.94 2.06-2.06.94zm10 10l.94 2.06.94-2.06 2.06-.94-2.06-.94-.94-2.06-.94 2.06-2.06.94z\"/><path d=\"M17.41 7.96l-1.37-1.37c-.4-.4-.92-.59-1.43-.59-.52 0-1.04.2-1.43.59L10.3 9.45l-7.72 7.72c-.78.78-.78 2.05 0 2.83L4 21.41c.39.39.9.59 1.41.59.51 0 1.02-.2 1.41-.59l7.78-7.78 2.81-2.81c.8-.78.8-2.07 0-2.86zM5.41 20L4 18.59l7.72-7.72 1.47 1.35L5.41 20z\"/>\n",
              "  </svg>\n",
              "      </button>\n",
              "      \n",
              "  <style>\n",
              "    .colab-df-container {\n",
              "      display:flex;\n",
              "      flex-wrap:wrap;\n",
              "      gap: 12px;\n",
              "    }\n",
              "\n",
              "    .colab-df-convert {\n",
              "      background-color: #E8F0FE;\n",
              "      border: none;\n",
              "      border-radius: 50%;\n",
              "      cursor: pointer;\n",
              "      display: none;\n",
              "      fill: #1967D2;\n",
              "      height: 32px;\n",
              "      padding: 0 0 0 0;\n",
              "      width: 32px;\n",
              "    }\n",
              "\n",
              "    .colab-df-convert:hover {\n",
              "      background-color: #E2EBFA;\n",
              "      box-shadow: 0px 1px 2px rgba(60, 64, 67, 0.3), 0px 1px 3px 1px rgba(60, 64, 67, 0.15);\n",
              "      fill: #174EA6;\n",
              "    }\n",
              "\n",
              "    [theme=dark] .colab-df-convert {\n",
              "      background-color: #3B4455;\n",
              "      fill: #D2E3FC;\n",
              "    }\n",
              "\n",
              "    [theme=dark] .colab-df-convert:hover {\n",
              "      background-color: #434B5C;\n",
              "      box-shadow: 0px 1px 3px 1px rgba(0, 0, 0, 0.15);\n",
              "      filter: drop-shadow(0px 1px 2px rgba(0, 0, 0, 0.3));\n",
              "      fill: #FFFFFF;\n",
              "    }\n",
              "  </style>\n",
              "\n",
              "      <script>\n",
              "        const buttonEl =\n",
              "          document.querySelector('#df-3bacedfa-6296-46a4-a534-bcec5bb485b8 button.colab-df-convert');\n",
              "        buttonEl.style.display =\n",
              "          google.colab.kernel.accessAllowed ? 'block' : 'none';\n",
              "\n",
              "        async function convertToInteractive(key) {\n",
              "          const element = document.querySelector('#df-3bacedfa-6296-46a4-a534-bcec5bb485b8');\n",
              "          const dataTable =\n",
              "            await google.colab.kernel.invokeFunction('convertToInteractive',\n",
              "                                                     [key], {});\n",
              "          if (!dataTable) return;\n",
              "\n",
              "          const docLinkHtml = 'Like what you see? Visit the ' +\n",
              "            '<a target=\"_blank\" href=https://colab.research.google.com/notebooks/data_table.ipynb>data table notebook</a>'\n",
              "            + ' to learn more about interactive tables.';\n",
              "          element.innerHTML = '';\n",
              "          dataTable['output_type'] = 'display_data';\n",
              "          await google.colab.output.renderOutput(dataTable, element);\n",
              "          const docLink = document.createElement('div');\n",
              "          docLink.innerHTML = docLinkHtml;\n",
              "          element.appendChild(docLink);\n",
              "        }\n",
              "      </script>\n",
              "    </div>\n",
              "  </div>\n",
              "  "
            ]
          },
          "metadata": {},
          "execution_count": 51
        }
      ]
    },
    {
      "cell_type": "code",
      "source": [
        "pred_images = test.values\n",
        "pred_images"
      ],
      "metadata": {
        "colab": {
          "base_uri": "https://localhost:8080/"
        },
        "id": "cZvWLCqWWcUd",
        "outputId": "734e0985-d645-4632-bef4-ed786d153435"
      },
      "id": "cZvWLCqWWcUd",
      "execution_count": 52,
      "outputs": [
        {
          "output_type": "execute_result",
          "data": {
            "text/plain": [
              "array([[0, 0, 0, ..., 0, 0, 0],\n",
              "       [0, 0, 0, ..., 0, 0, 0],\n",
              "       [0, 0, 0, ..., 0, 0, 0],\n",
              "       ...,\n",
              "       [0, 0, 0, ..., 0, 1, 0],\n",
              "       [0, 1, 3, ..., 0, 0, 0],\n",
              "       [0, 0, 0, ..., 0, 0, 0]])"
            ]
          },
          "metadata": {},
          "execution_count": 52
        }
      ]
    },
    {
      "cell_type": "code",
      "source": [
        "pred_images.shape"
      ],
      "metadata": {
        "colab": {
          "base_uri": "https://localhost:8080/"
        },
        "id": "25iXauM0Y6f9",
        "outputId": "94c0af97-54a2-4ed3-80cb-f48159a50fa2"
      },
      "id": "25iXauM0Y6f9",
      "execution_count": 53,
      "outputs": [
        {
          "output_type": "execute_result",
          "data": {
            "text/plain": [
              "(10000, 784)"
            ]
          },
          "metadata": {},
          "execution_count": 53
        }
      ]
    },
    {
      "cell_type": "code",
      "source": [
        "pred_images = pred_images.reshape((-1, 28, 28, 1))"
      ],
      "metadata": {
        "id": "uaZ0DaN0ZEgH"
      },
      "id": "uaZ0DaN0ZEgH",
      "execution_count": 54,
      "outputs": []
    },
    {
      "cell_type": "code",
      "source": [
        "pred_images = pred_images.astype(\"float32\")/255"
      ],
      "metadata": {
        "id": "MBqCidWFOHq4"
      },
      "id": "MBqCidWFOHq4",
      "execution_count": 55,
      "outputs": []
    },
    {
      "cell_type": "code",
      "source": [
        "model.load_weights('/content/weights_epoch_13.h5')  \n",
        "predictions = model.predict(X_test)"
      ],
      "metadata": {
        "colab": {
          "base_uri": "https://localhost:8080/"
        },
        "id": "ps21aqSgREsZ",
        "outputId": "34d9ea37-336b-4e0b-93a5-09e4d63faeec"
      },
      "id": "ps21aqSgREsZ",
      "execution_count": 56,
      "outputs": [
        {
          "output_type": "stream",
          "name": "stdout",
          "text": [
            "107/107 [==============================] - 0s 3ms/step\n"
          ]
        }
      ]
    },
    {
      "cell_type": "code",
      "source": [
        "test_pred = model.predict(pred_images)\n",
        "pred_classes = np.argmax(test_pred,axis = 1)"
      ],
      "metadata": {
        "colab": {
          "base_uri": "https://localhost:8080/"
        },
        "id": "NihrN9wIWU27",
        "outputId": "f29adf34-5c9f-4b0b-df41-53acbc4ffd66"
      },
      "id": "NihrN9wIWU27",
      "execution_count": 57,
      "outputs": [
        {
          "output_type": "stream",
          "name": "stdout",
          "text": [
            "313/313 [==============================] - 1s 2ms/step\n"
          ]
        }
      ]
    },
    {
      "cell_type": "code",
      "source": [
        "test_pred.shape"
      ],
      "metadata": {
        "colab": {
          "base_uri": "https://localhost:8080/"
        },
        "id": "0KNf952YWVDU",
        "outputId": "d08c3cc5-6c53-428c-f4b6-0fd4024ddd81"
      },
      "id": "0KNf952YWVDU",
      "execution_count": 58,
      "outputs": [
        {
          "output_type": "execute_result",
          "data": {
            "text/plain": [
              "(10000, 10)"
            ]
          },
          "metadata": {},
          "execution_count": 58
        }
      ]
    },
    {
      "cell_type": "code",
      "source": [
        "predicted_labels = np.argmax(test_pred, axis=1)\n",
        "\n",
        "# Создание DataFrame из предсказанных меток\n",
        "result = pd.DataFrame({'Category': predicted_labels})\n",
        "\n",
        "print(result)"
      ],
      "metadata": {
        "colab": {
          "base_uri": "https://localhost:8080/"
        },
        "id": "lJMcKggYWVFx",
        "outputId": "f4e95ba1-452e-43f3-8ca5-8418aaa327d1"
      },
      "id": "lJMcKggYWVFx",
      "execution_count": 60,
      "outputs": [
        {
          "output_type": "stream",
          "name": "stdout",
          "text": [
            "      Category\n",
            "0            0\n",
            "1            1\n",
            "2            2\n",
            "3            2\n",
            "4            3\n",
            "...        ...\n",
            "9995         0\n",
            "9996         6\n",
            "9997         8\n",
            "9998         8\n",
            "9999         1\n",
            "\n",
            "[10000 rows x 1 columns]\n"
          ]
        }
      ]
    },
    {
      "cell_type": "code",
      "source": [
        "result = result.reset_index(drop=False)"
      ],
      "metadata": {
        "id": "qFBV3BbdbD34"
      },
      "id": "qFBV3BbdbD34",
      "execution_count": 61,
      "outputs": []
    },
    {
      "cell_type": "code",
      "source": [
        "result.columns = ['Id','Category']"
      ],
      "metadata": {
        "id": "0KsRD2dXbJp3"
      },
      "id": "0KsRD2dXbJp3",
      "execution_count": 62,
      "outputs": []
    },
    {
      "cell_type": "code",
      "source": [
        "result"
      ],
      "metadata": {
        "colab": {
          "base_uri": "https://localhost:8080/",
          "height": 423
        },
        "id": "lxUW65nqcNza",
        "outputId": "93fa536b-ba47-472c-aa10-e99649ebe715"
      },
      "id": "lxUW65nqcNza",
      "execution_count": 63,
      "outputs": [
        {
          "output_type": "execute_result",
          "data": {
            "text/plain": [
              "        Id  Category\n",
              "0        0         0\n",
              "1        1         1\n",
              "2        2         2\n",
              "3        3         2\n",
              "4        4         3\n",
              "...    ...       ...\n",
              "9995  9995         0\n",
              "9996  9996         6\n",
              "9997  9997         8\n",
              "9998  9998         8\n",
              "9999  9999         1\n",
              "\n",
              "[10000 rows x 2 columns]"
            ],
            "text/html": [
              "\n",
              "  <div id=\"df-182b462b-d1d5-404b-98f3-57e2d407a39d\">\n",
              "    <div class=\"colab-df-container\">\n",
              "      <div>\n",
              "<style scoped>\n",
              "    .dataframe tbody tr th:only-of-type {\n",
              "        vertical-align: middle;\n",
              "    }\n",
              "\n",
              "    .dataframe tbody tr th {\n",
              "        vertical-align: top;\n",
              "    }\n",
              "\n",
              "    .dataframe thead th {\n",
              "        text-align: right;\n",
              "    }\n",
              "</style>\n",
              "<table border=\"1\" class=\"dataframe\">\n",
              "  <thead>\n",
              "    <tr style=\"text-align: right;\">\n",
              "      <th></th>\n",
              "      <th>Id</th>\n",
              "      <th>Category</th>\n",
              "    </tr>\n",
              "  </thead>\n",
              "  <tbody>\n",
              "    <tr>\n",
              "      <th>0</th>\n",
              "      <td>0</td>\n",
              "      <td>0</td>\n",
              "    </tr>\n",
              "    <tr>\n",
              "      <th>1</th>\n",
              "      <td>1</td>\n",
              "      <td>1</td>\n",
              "    </tr>\n",
              "    <tr>\n",
              "      <th>2</th>\n",
              "      <td>2</td>\n",
              "      <td>2</td>\n",
              "    </tr>\n",
              "    <tr>\n",
              "      <th>3</th>\n",
              "      <td>3</td>\n",
              "      <td>2</td>\n",
              "    </tr>\n",
              "    <tr>\n",
              "      <th>4</th>\n",
              "      <td>4</td>\n",
              "      <td>3</td>\n",
              "    </tr>\n",
              "    <tr>\n",
              "      <th>...</th>\n",
              "      <td>...</td>\n",
              "      <td>...</td>\n",
              "    </tr>\n",
              "    <tr>\n",
              "      <th>9995</th>\n",
              "      <td>9995</td>\n",
              "      <td>0</td>\n",
              "    </tr>\n",
              "    <tr>\n",
              "      <th>9996</th>\n",
              "      <td>9996</td>\n",
              "      <td>6</td>\n",
              "    </tr>\n",
              "    <tr>\n",
              "      <th>9997</th>\n",
              "      <td>9997</td>\n",
              "      <td>8</td>\n",
              "    </tr>\n",
              "    <tr>\n",
              "      <th>9998</th>\n",
              "      <td>9998</td>\n",
              "      <td>8</td>\n",
              "    </tr>\n",
              "    <tr>\n",
              "      <th>9999</th>\n",
              "      <td>9999</td>\n",
              "      <td>1</td>\n",
              "    </tr>\n",
              "  </tbody>\n",
              "</table>\n",
              "<p>10000 rows × 2 columns</p>\n",
              "</div>\n",
              "      <button class=\"colab-df-convert\" onclick=\"convertToInteractive('df-182b462b-d1d5-404b-98f3-57e2d407a39d')\"\n",
              "              title=\"Convert this dataframe to an interactive table.\"\n",
              "              style=\"display:none;\">\n",
              "        \n",
              "  <svg xmlns=\"http://www.w3.org/2000/svg\" height=\"24px\"viewBox=\"0 0 24 24\"\n",
              "       width=\"24px\">\n",
              "    <path d=\"M0 0h24v24H0V0z\" fill=\"none\"/>\n",
              "    <path d=\"M18.56 5.44l.94 2.06.94-2.06 2.06-.94-2.06-.94-.94-2.06-.94 2.06-2.06.94zm-11 1L8.5 8.5l.94-2.06 2.06-.94-2.06-.94L8.5 2.5l-.94 2.06-2.06.94zm10 10l.94 2.06.94-2.06 2.06-.94-2.06-.94-.94-2.06-.94 2.06-2.06.94z\"/><path d=\"M17.41 7.96l-1.37-1.37c-.4-.4-.92-.59-1.43-.59-.52 0-1.04.2-1.43.59L10.3 9.45l-7.72 7.72c-.78.78-.78 2.05 0 2.83L4 21.41c.39.39.9.59 1.41.59.51 0 1.02-.2 1.41-.59l7.78-7.78 2.81-2.81c.8-.78.8-2.07 0-2.86zM5.41 20L4 18.59l7.72-7.72 1.47 1.35L5.41 20z\"/>\n",
              "  </svg>\n",
              "      </button>\n",
              "      \n",
              "  <style>\n",
              "    .colab-df-container {\n",
              "      display:flex;\n",
              "      flex-wrap:wrap;\n",
              "      gap: 12px;\n",
              "    }\n",
              "\n",
              "    .colab-df-convert {\n",
              "      background-color: #E8F0FE;\n",
              "      border: none;\n",
              "      border-radius: 50%;\n",
              "      cursor: pointer;\n",
              "      display: none;\n",
              "      fill: #1967D2;\n",
              "      height: 32px;\n",
              "      padding: 0 0 0 0;\n",
              "      width: 32px;\n",
              "    }\n",
              "\n",
              "    .colab-df-convert:hover {\n",
              "      background-color: #E2EBFA;\n",
              "      box-shadow: 0px 1px 2px rgba(60, 64, 67, 0.3), 0px 1px 3px 1px rgba(60, 64, 67, 0.15);\n",
              "      fill: #174EA6;\n",
              "    }\n",
              "\n",
              "    [theme=dark] .colab-df-convert {\n",
              "      background-color: #3B4455;\n",
              "      fill: #D2E3FC;\n",
              "    }\n",
              "\n",
              "    [theme=dark] .colab-df-convert:hover {\n",
              "      background-color: #434B5C;\n",
              "      box-shadow: 0px 1px 3px 1px rgba(0, 0, 0, 0.15);\n",
              "      filter: drop-shadow(0px 1px 2px rgba(0, 0, 0, 0.3));\n",
              "      fill: #FFFFFF;\n",
              "    }\n",
              "  </style>\n",
              "\n",
              "      <script>\n",
              "        const buttonEl =\n",
              "          document.querySelector('#df-182b462b-d1d5-404b-98f3-57e2d407a39d button.colab-df-convert');\n",
              "        buttonEl.style.display =\n",
              "          google.colab.kernel.accessAllowed ? 'block' : 'none';\n",
              "\n",
              "        async function convertToInteractive(key) {\n",
              "          const element = document.querySelector('#df-182b462b-d1d5-404b-98f3-57e2d407a39d');\n",
              "          const dataTable =\n",
              "            await google.colab.kernel.invokeFunction('convertToInteractive',\n",
              "                                                     [key], {});\n",
              "          if (!dataTable) return;\n",
              "\n",
              "          const docLinkHtml = 'Like what you see? Visit the ' +\n",
              "            '<a target=\"_blank\" href=https://colab.research.google.com/notebooks/data_table.ipynb>data table notebook</a>'\n",
              "            + ' to learn more about interactive tables.';\n",
              "          element.innerHTML = '';\n",
              "          dataTable['output_type'] = 'display_data';\n",
              "          await google.colab.output.renderOutput(dataTable, element);\n",
              "          const docLink = document.createElement('div');\n",
              "          docLink.innerHTML = docLinkHtml;\n",
              "          element.appendChild(docLink);\n",
              "        }\n",
              "      </script>\n",
              "    </div>\n",
              "  </div>\n",
              "  "
            ]
          },
          "metadata": {},
          "execution_count": 63
        }
      ]
    },
    {
      "cell_type": "code",
      "source": [
        "result.to_csv('Simonova_AI.12_submission.csv', index=False)\n"
      ],
      "metadata": {
        "id": "QH7K9DFvcO1r"
      },
      "id": "QH7K9DFvcO1r",
      "execution_count": 65,
      "outputs": []
    },
    {
      "cell_type": "code",
      "source": [
        "model.save('fashion_mnist_model.h5')"
      ],
      "metadata": {
        "id": "mBvGdOblOSHY"
      },
      "id": "mBvGdOblOSHY",
      "execution_count": 68,
      "outputs": []
    },
    {
      "cell_type": "code",
      "source": [],
      "metadata": {
        "id": "Q71rksUej5Ym"
      },
      "id": "Q71rksUej5Ym",
      "execution_count": null,
      "outputs": []
    }
  ],
  "metadata": {
    "kernelspec": {
      "display_name": "Python 3 (ipykernel)",
      "language": "python",
      "name": "python3"
    },
    "language_info": {
      "codemirror_mode": {
        "name": "ipython",
        "version": 3
      },
      "file_extension": ".py",
      "mimetype": "text/x-python",
      "name": "python",
      "nbconvert_exporter": "python",
      "pygments_lexer": "ipython3",
      "version": "3.9.13"
    },
    "colab": {
      "provenance": [],
      "gpuType": "T4"
    },
    "gpuClass": "standard",
    "accelerator": "GPU"
  },
  "nbformat": 4,
  "nbformat_minor": 5
}
