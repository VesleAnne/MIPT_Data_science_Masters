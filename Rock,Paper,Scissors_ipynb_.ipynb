{
  "nbformat": 4,
  "nbformat_minor": 0,
  "metadata": {
    "colab": {
      "provenance": [],
      "collapsed_sections": []
    },
    "kernelspec": {
      "name": "python3",
      "display_name": "Python 3"
    },
    "language_info": {
      "name": "python"
    }
  },
  "cells": [
    {
      "cell_type": "code",
      "execution_count": 87,
      "metadata": {
        "id": "MXXTuy_o0sjk"
      },
      "outputs": [],
      "source": [
        "!pip install -q -U kaggle_environments"
      ]
    },
    {
      "cell_type": "code",
      "source": [
        "import numpy as np\n",
        "import pandas as pd\n",
        "import random\n",
        "\n",
        "import matplotlib.pyplot as plt\n",
        "import seaborn as sns\n",
        "\n",
        "from kaggle_environments import make, evaluate"
      ],
      "metadata": {
        "id": "yz23vWHD0wcj"
      },
      "execution_count": 80,
      "outputs": []
    },
    {
      "cell_type": "markdown",
      "source": [
        "**1. Агент камень**\n",
        "\n",
        "> Agent rock - always chooses rock."
      ],
      "metadata": {
        "id": "j8v1Txa-N2I5"
      }
    },
    {
      "cell_type": "code",
      "source": [
        "%%writefile rock_agent.py\n",
        "\n",
        "#0 - rock\n",
        "#1 - paper\n",
        "#2 - scissors\n",
        "def rock_agent(observation, configuration):\n",
        "    return 0"
      ],
      "metadata": {
        "id": "bqTqV7B92rJ6",
        "colab": {
          "base_uri": "https://localhost:8080/"
        },
        "outputId": "59a22143-2e31-4618-e5d3-6c9b9feff9c7"
      },
      "execution_count": 88,
      "outputs": [
        {
          "output_type": "stream",
          "name": "stdout",
          "text": [
            "Overwriting rock_agent.py\n"
          ]
        }
      ]
    },
    {
      "cell_type": "code",
      "source": [
        "evaluate(\n",
        "    \"rps\", #environment to use - no need to change\n",
        "    [\"rock_agent.py\",  \"statistical\"], #agents to evaluate\n",
        "    configuration={\"episodeSteps\": 100} #number of episodes \n",
        ")"
      ],
      "metadata": {
        "colab": {
          "base_uri": "https://localhost:8080/"
        },
        "id": "t_94iSdQJ-Jq",
        "outputId": "aeae3236-f6b1-40ea-9292-b2c42d6c2ad8"
      },
      "execution_count": 89,
      "outputs": [
        {
          "output_type": "execute_result",
          "data": {
            "text/plain": [
              "[[-98.0, 98.0]]"
            ]
          },
          "metadata": {},
          "execution_count": 89
        }
      ]
    },
    {
      "cell_type": "markdown",
      "source": [
        "**2. Агент бумага**\n",
        "\n",
        "> Agent paper - always chooses paper."
      ],
      "metadata": {
        "id": "d1AY866VOrQo"
      }
    },
    {
      "cell_type": "code",
      "source": [
        "%%writefile paper_agent.py\n",
        "\n",
        "def paper_agent(observation, configuration):\n",
        "    return 1"
      ],
      "metadata": {
        "colab": {
          "base_uri": "https://localhost:8080/"
        },
        "id": "1c7JHjESMCp7",
        "outputId": "eda5f52d-67c5-4cbd-cdf5-1f003ba93259"
      },
      "execution_count": 90,
      "outputs": [
        {
          "output_type": "stream",
          "name": "stdout",
          "text": [
            "Overwriting paper_agent.py\n"
          ]
        }
      ]
    },
    {
      "cell_type": "code",
      "source": [
        "evaluate(\n",
        "    \"rps\", #environment to use - no need to change\n",
        "    [\"paper_agent.py\",  \"statistical\"], #agents to evaluate\n",
        "    configuration={\"episodeSteps\": 100} #number of episodes \n",
        ")"
      ],
      "metadata": {
        "colab": {
          "base_uri": "https://localhost:8080/"
        },
        "id": "t8YfMN2CKFBq",
        "outputId": "92ec174e-6913-440c-f287-f3712afc2c33"
      },
      "execution_count": null,
      "outputs": [
        {
          "output_type": "execute_result",
          "data": {
            "text/plain": [
              "[[-97.0, 97.0]]"
            ]
          },
          "metadata": {},
          "execution_count": 51
        }
      ]
    },
    {
      "cell_type": "markdown",
      "source": [
        "**3. Агент ножницы**\n",
        "\n",
        "> Agent scissors - always chooses scissors."
      ],
      "metadata": {
        "id": "HdBmloo9O2TQ"
      }
    },
    {
      "cell_type": "code",
      "source": [
        "%%writefile scissors_agent.py\n",
        "\n",
        "def scissors_agent(observation, configuration):\n",
        "    return 2"
      ],
      "metadata": {
        "colab": {
          "base_uri": "https://localhost:8080/"
        },
        "id": "1yIdcft4TcJN",
        "outputId": "aee7e12a-7fab-413c-a922-ac5cc31e8f8c"
      },
      "execution_count": 91,
      "outputs": [
        {
          "output_type": "stream",
          "name": "stdout",
          "text": [
            "Overwriting scissors_agent.py\n"
          ]
        }
      ]
    },
    {
      "cell_type": "code",
      "source": [
        "evaluate(\n",
        "    \"rps\", #environment to use - no need to change\n",
        "    [\"scissors_agent.py\",  \"statistical\"], #agents to evaluate\n",
        "    configuration={\"episodeSteps\": 100} #number of episodes \n",
        ")"
      ],
      "metadata": {
        "colab": {
          "base_uri": "https://localhost:8080/"
        },
        "id": "cXDdN0GiKPnz",
        "outputId": "55209789-17f8-4958-acd1-086fed14c84c"
      },
      "execution_count": null,
      "outputs": [
        {
          "output_type": "execute_result",
          "data": {
            "text/plain": [
              "[[-99.0, 99.0]]"
            ]
          },
          "metadata": {},
          "execution_count": 71
        }
      ]
    },
    {
      "cell_type": "markdown",
      "source": [
        "**4. Агент, копирующий последнее действие оппонента**\n",
        "\n",
        "> Agent coppy opponent - copies the last action of the opponent."
      ],
      "metadata": {
        "id": "kxG0UdJtO9Bo"
      }
    },
    {
      "cell_type": "code",
      "source": [
        "%%writefile copy_opponent.py\n",
        "import random\n",
        "\n",
        "def copy_opponent(observation, configuration):\n",
        "    \n",
        "    if observation.step > 0:\n",
        "        return observation.lastOpponentAction\n",
        "    \n",
        "    else:\n",
        "        return random.randrange(0, configuration.signs)"
      ],
      "metadata": {
        "id": "7l6Ttw6qi0jk",
        "colab": {
          "base_uri": "https://localhost:8080/"
        },
        "outputId": "4b3e1ea5-787c-4127-897a-711a2ba489b3"
      },
      "execution_count": 92,
      "outputs": [
        {
          "output_type": "stream",
          "name": "stdout",
          "text": [
            "Overwriting copy_opponent.py\n"
          ]
        }
      ]
    },
    {
      "cell_type": "code",
      "source": [
        "evaluate(\n",
        "    \"rps\", #environment to use - no need to change\n",
        "    [\"copy_opponent.py\",  \"statistical\"], #agents to evaluate\n",
        "    configuration={\"episodeSteps\": 100} #number of episodes \n",
        ")"
      ],
      "metadata": {
        "colab": {
          "base_uri": "https://localhost:8080/"
        },
        "id": "JF-hMdgrKV0i",
        "outputId": "55a3903c-aaf4-441a-f270-cb7b72c95281"
      },
      "execution_count": null,
      "outputs": [
        {
          "output_type": "execute_result",
          "data": {
            "text/plain": [
              "[[-22.0, 22.0]]"
            ]
          },
          "metadata": {},
          "execution_count": 92
        }
      ]
    },
    {
      "cell_type": "markdown",
      "source": [
        "**5. Случайный агент**\n",
        "\n",
        "> Random agent - chooses randomly."
      ],
      "metadata": {
        "id": "8zGbyirqPFfp"
      }
    },
    {
      "cell_type": "code",
      "source": [
        "%%writefile random_agent.py\n",
        "import random\n",
        "def random_agent(observation, configuration):\n",
        "    return random.randrange(random.randrange(0,2), 3)"
      ],
      "metadata": {
        "id": "kL9HfNYsaHO0",
        "colab": {
          "base_uri": "https://localhost:8080/"
        },
        "outputId": "69838131-ce8e-4d61-d601-5485d9c8e50d"
      },
      "execution_count": 93,
      "outputs": [
        {
          "output_type": "stream",
          "name": "stdout",
          "text": [
            "Overwriting random_agent.py\n"
          ]
        }
      ]
    },
    {
      "cell_type": "code",
      "source": [
        "evaluate(\n",
        "    \"rps\", #environment to use - no need to change\n",
        "    [\"random_agent.py\",  \"statistical\"], #agents to evaluate\n",
        "    configuration={\"episodeSteps\": 100} #number of episodes \n",
        ")"
      ],
      "metadata": {
        "colab": {
          "base_uri": "https://localhost:8080/"
        },
        "id": "0ouzK8fJKlKr",
        "outputId": "f934a526-6e57-4eee-dfb0-33027792ce55"
      },
      "execution_count": null,
      "outputs": [
        {
          "output_type": "execute_result",
          "data": {
            "text/plain": [
              "[[-21.0, 21.0]]"
            ]
          },
          "metadata": {},
          "execution_count": 94
        }
      ]
    },
    {
      "cell_type": "markdown",
      "source": [
        "**6. Последовательный агент (выкидывает последовательно камень, ножницы, бумага)**\n",
        "> Sequential agent - always follows the pattern rock-paper-scissors."
      ],
      "metadata": {
        "id": "s3fql8ijPVmS"
      }
    },
    {
      "cell_type": "code",
      "source": [
        "%%writefile sequential_agent.py\n",
        "seq=[0,1,2,2,1,0]\n",
        "\n",
        "def sequential_agent(observation, configuration):\n",
        "  result=seq.pop(0)\n",
        "  seq.append(result)\n",
        "  return result "
      ],
      "metadata": {
        "colab": {
          "base_uri": "https://localhost:8080/"
        },
        "id": "FXkcaCfG1_JO",
        "outputId": "65be6339-0fdf-4e56-e7ed-89e6e92adce5"
      },
      "execution_count": 94,
      "outputs": [
        {
          "output_type": "stream",
          "name": "stdout",
          "text": [
            "Overwriting sequential_agent.py\n"
          ]
        }
      ]
    },
    {
      "cell_type": "code",
      "source": [
        "evaluate(\n",
        "    \"rps\", #environment to use - no need to change\n",
        "    [\"sequential_agent.py\",  \"statistical\"], #agents to evaluate\n",
        "    configuration={\"episodeSteps\": 100} #number of episodes \n",
        ")"
      ],
      "metadata": {
        "colab": {
          "base_uri": "https://localhost:8080/"
        },
        "id": "RTEgnIQuMxcE",
        "outputId": "888e3dbb-fdd3-4a1f-a34a-b484923b15da"
      },
      "execution_count": null,
      "outputs": [
        {
          "output_type": "execute_result",
          "data": {
            "text/plain": [
              "[[49.0, -49.0]]"
            ]
          },
          "metadata": {},
          "execution_count": 10
        }
      ]
    },
    {
      "cell_type": "markdown",
      "source": [
        "**7. Агент победитель (если в предыдущем раунде выиграл - повторяет свои действия, в противном случае выбирает случайно).**"
      ],
      "metadata": {
        "id": "uSSrYCzuPa_D"
      }
    },
    {
      "cell_type": "markdown",
      "source": [
        "> Agent winner - if won chooses the same move next time, if not chooses randomly"
      ],
      "metadata": {
        "id": "gzeHbjx7F8ak"
      }
    },
    {
      "cell_type": "code",
      "source": [
        "%%writefile winner_agent.py\n",
        "import math\n",
        "\n",
        "def get_score(left_move, right_move):\n",
        "  delta = (\n",
        "    right_move - left_move\n",
        "    if (left_move + right_move) % 2 == 0\n",
        "    else left_move - right_move\n",
        "    )\n",
        "  return 0 if delta == 0 else math.copysign(1, delta)\n",
        "\n",
        "import random\n",
        "last_move = None\n",
        "\n",
        "def winner_agent(observation, configuration):\n",
        "  global last_move\n",
        "  \n",
        "  if observation.step == 0:\n",
        "    last_move = random.randrange(0, configuration.signs)\n",
        "  elif get_score(last_move, observation.lastOpponentAction) != 1:\n",
        "    last_move = random.randrange(0, configuration.signs)\n",
        "  return last_move"
      ],
      "metadata": {
        "colab": {
          "base_uri": "https://localhost:8080/"
        },
        "id": "HwHffMQW1_Ml",
        "outputId": "84e68e17-65ec-4bcd-c7a5-9dbdb660741d"
      },
      "execution_count": 95,
      "outputs": [
        {
          "output_type": "stream",
          "name": "stdout",
          "text": [
            "Overwriting winner_agent.py\n"
          ]
        }
      ]
    },
    {
      "cell_type": "code",
      "source": [
        "evaluate(\n",
        "    \"rps\", #environment to use - no need to change\n",
        "    [\"winner_agent.py\",  \"statistical\"], #agents to evaluate\n",
        "    configuration={\"episodeSteps\": 100} #number of episodes \n",
        ")"
      ],
      "metadata": {
        "colab": {
          "base_uri": "https://localhost:8080/"
        },
        "id": "Kmg0yeiU1_PZ",
        "outputId": "5b667754-aa65-4865-d806-49687c95cc16"
      },
      "execution_count": null,
      "outputs": [
        {
          "output_type": "execute_result",
          "data": {
            "text/plain": [
              "[[45.0, -45.0]]"
            ]
          },
          "metadata": {},
          "execution_count": 68
        }
      ]
    },
    {
      "cell_type": "markdown",
      "source": [
        "**8. Агент проигравший (если в предыдущем раунде проиграл, повторяет свои действия).**"
      ],
      "metadata": {
        "id": "TpO1szaSPmHp"
      }
    },
    {
      "cell_type": "markdown",
      "source": [
        "> Agent looser - makes the same move when lost, if not chooses randomly"
      ],
      "metadata": {
        "id": "fIk7w6oHGPTY"
      }
    },
    {
      "cell_type": "code",
      "source": [
        "%%writefile looser_agent.py\n",
        "import math\n",
        "\n",
        "def get_score(left_move, right_move):\n",
        "  delta = (\n",
        "    right_move - left_move\n",
        "    if (left_move + right_move) % 2 == 0\n",
        "    else left_move - right_move\n",
        "    )\n",
        "  return 0 if delta == 0 else math.copysign(1, delta)\n",
        "\n",
        "import random\n",
        "last_move = None\n",
        "\n",
        "def looser_agent(observation, configuration):\n",
        "  global last_move\n",
        "  \n",
        "  if observation.step == 0:\n",
        "    last_move = random.randrange(0, configuration.signs)\n",
        "  elif get_score(last_move, observation.lastOpponentAction) == -1:\n",
        "    last_move = random.randrange(0, configuration.signs)\n",
        "  return last_move"
      ],
      "metadata": {
        "colab": {
          "base_uri": "https://localhost:8080/"
        },
        "id": "_DNAav4E6g0b",
        "outputId": "69f79baa-0f5b-4a19-8d6e-dff96aadfd3b"
      },
      "execution_count": 96,
      "outputs": [
        {
          "output_type": "stream",
          "name": "stdout",
          "text": [
            "Overwriting looser_agent.py\n"
          ]
        }
      ]
    },
    {
      "cell_type": "code",
      "source": [
        "evaluate(\n",
        "    \"rps\", #environment to use - no need to change\n",
        "    [\"looser_agent.py\",  \"statistical\"], #agents to evaluate\n",
        "    configuration={\"episodeSteps\": 100} #number of episodes \n",
        ")"
      ],
      "metadata": {
        "colab": {
          "base_uri": "https://localhost:8080/"
        },
        "id": "r2ws9Mwz6g3I",
        "outputId": "6ea43c3e-0d65-4dd6-b00f-5811d5504c33"
      },
      "execution_count": null,
      "outputs": [
        {
          "output_type": "execute_result",
          "data": {
            "text/plain": [
              "[[22.0, -22.0]]"
            ]
          },
          "metadata": {},
          "execution_count": 43
        }
      ]
    },
    {
      "cell_type": "markdown",
      "source": [
        "**9. Агент отстающий (выкидывает то, что победило бы предыдущий шаг соперника).** "
      ],
      "metadata": {
        "id": "fsXFxHRMPxbB"
      }
    },
    {
      "cell_type": "markdown",
      "source": [
        "> Win previous move agent - chooses the move that whould have won in the previous round"
      ],
      "metadata": {
        "id": "bkLYsW_rGpSq"
      }
    },
    {
      "cell_type": "code",
      "source": [
        "%%writefile win_prev_move_agent.py\n",
        "\n",
        "import random\n",
        "\n",
        "def win_prev_move_agent(observation, configuration):\n",
        "  if observation.step > 0:\n",
        "    return (observation.lastOpponentAction+1)%configuration.signs\n",
        "  else:\n",
        "    return random.randrange(0, configuration.signs)"
      ],
      "metadata": {
        "id": "0wK6YCDOXDy2",
        "colab": {
          "base_uri": "https://localhost:8080/"
        },
        "outputId": "77ca9db8-d1ec-409b-d9d4-ade34fd379ca"
      },
      "execution_count": 97,
      "outputs": [
        {
          "output_type": "stream",
          "name": "stdout",
          "text": [
            "Overwriting win_prev_move_agent.py\n"
          ]
        }
      ]
    },
    {
      "cell_type": "code",
      "source": [
        "evaluate(\n",
        "    \"rps\", #environment to use - no need to change\n",
        "    [\"win_prev_move_agent.py\",  \"statistical\"], #agents to evaluate\n",
        "    configuration={\"episodeSteps\": 100} #number of episodes \n",
        ")"
      ],
      "metadata": {
        "id": "rWCRGc7yXD7Q",
        "colab": {
          "base_uri": "https://localhost:8080/"
        },
        "outputId": "b74e4bf6-8b5c-4cb8-cfdf-426f1004a625"
      },
      "execution_count": null,
      "outputs": [
        {
          "output_type": "execute_result",
          "data": {
            "text/plain": [
              "[[57.0, -57.0]]"
            ]
          },
          "metadata": {},
          "execution_count": 5
        }
      ]
    },
    {
      "cell_type": "markdown",
      "source": [
        "**10. Агент остающий лузер (выкидывает то, что проиграло бы предыдущему ходу оппонента).**"
      ],
      "metadata": {
        "id": "7f22XwuCPxdv"
      }
    },
    {
      "cell_type": "markdown",
      "source": [
        "> Loose previous move agent - chooses the move that whould have lost in the previous round"
      ],
      "metadata": {
        "id": "UioRd_liHNzp"
      }
    },
    {
      "cell_type": "code",
      "source": [
        "%%writefile loose_prev_move_agent.py\n",
        "\n",
        "import random\n",
        "\n",
        "def loose_prev_move_agent(observation, configuration):\n",
        "  if observation.step > 0:\n",
        "    return (observation.lastOpponentAction+2)%configuration.signs\n",
        "  else:\n",
        "    return random.randrange(0, configuration.signs)"
      ],
      "metadata": {
        "colab": {
          "base_uri": "https://localhost:8080/"
        },
        "id": "t-tChpufs1Py",
        "outputId": "ab08e453-d53d-4cd9-91ca-0f44236f0b6f"
      },
      "execution_count": 98,
      "outputs": [
        {
          "output_type": "stream",
          "name": "stdout",
          "text": [
            "Overwriting loose_prev_move_agent.py\n"
          ]
        }
      ]
    },
    {
      "cell_type": "code",
      "source": [
        "evaluate(\n",
        "    \"rps\", #environment to use - no need to change\n",
        "    [\"loose_prev_move_agent.py\",  \"statistical\"], #agents to evaluate\n",
        "    configuration={\"episodeSteps\": 100} #number of episodes \n",
        ")"
      ],
      "metadata": {
        "colab": {
          "base_uri": "https://localhost:8080/"
        },
        "id": "GKwV6PdPs1T2",
        "outputId": "b9e5478c-ae09-4d1e-ad7a-6840d4ffb744"
      },
      "execution_count": null,
      "outputs": [
        {
          "output_type": "execute_result",
          "data": {
            "text/plain": [
              "[[-96.0, 96.0]]"
            ]
          },
          "metadata": {},
          "execution_count": 7
        }
      ]
    },
    {
      "cell_type": "markdown",
      "source": [
        "**11. Агент суммирующий. Берется остаток от деления на три всех предыдущих ходов.**"
      ],
      "metadata": {
        "id": "mXy6_ubRPxhY"
      }
    },
    {
      "cell_type": "markdown",
      "source": [
        "> Summing agent - sums all his previous moves and chooses accordingly. The first move is random."
      ],
      "metadata": {
        "id": "VuS_Du38HUgX"
      }
    },
    {
      "cell_type": "code",
      "source": [
        "%%writefile summing_agent.py\n",
        "\n",
        "import random\n",
        "\n",
        "last_move = 0\n",
        "\n",
        "\n",
        "def summing_agent(observation, configuration):\n",
        "\n",
        "  global last_move\n",
        "  sum_result = []\n",
        "\n",
        "  if observation.step > 0:\n",
        "    sum_result.append(last_move)\n",
        "    return (sum(sum_result))%configuration.signs\n",
        "  else:\n",
        "    return random.randrange(0, configuration.signs)"
      ],
      "metadata": {
        "colab": {
          "base_uri": "https://localhost:8080/"
        },
        "id": "bvtZkEdDwx1I",
        "outputId": "c1cb8884-635f-4060-8af1-9a59667c31be"
      },
      "execution_count": 99,
      "outputs": [
        {
          "output_type": "stream",
          "name": "stdout",
          "text": [
            "Overwriting summing_agent.py\n"
          ]
        }
      ]
    },
    {
      "cell_type": "code",
      "source": [
        "evaluate(\n",
        "    \"rps\", #environment to use - no need to change\n",
        "    [\"summing_agent.py\",  \"statistical\"], #agents to evaluate\n",
        "    configuration={\"episodeSteps\": 100} #number of episodes \n",
        ")"
      ],
      "metadata": {
        "colab": {
          "base_uri": "https://localhost:8080/"
        },
        "id": "0ECShOnwwx3h",
        "outputId": "1b5f07ed-859a-4daa-da55-d1dfe8476cbf"
      },
      "execution_count": null,
      "outputs": [
        {
          "output_type": "execute_result",
          "data": {
            "text/plain": [
              "[[-93.0, 93.0]]"
            ]
          },
          "metadata": {},
          "execution_count": 44
        }
      ]
    },
    {
      "cell_type": "markdown",
      "source": [
        "**12. Агент пи (берется остаток от деления на 3 каждой последующей цифры числа пи).**"
      ],
      "metadata": {
        "id": "1Er-Z5-zR4an"
      }
    },
    {
      "cell_type": "markdown",
      "source": [
        "> Agent pi - takes numbers of pi after the point and returns mod 3 of it as his move. "
      ],
      "metadata": {
        "id": "cMJUujIRB_Oj"
      }
    },
    {
      "cell_type": "code",
      "source": [
        "%%writefile agent_pi.py\n",
        "import math\n",
        "\n",
        "lst_pi = list(map(int, str(math.pi)[2:]))\n",
        "\n",
        "def agent_pi(observation, configuration):\n",
        "  global lst_pi\n",
        "  result=lst_pi.pop(0)\n",
        "  \n",
        "  lst_pi.append(result)\n",
        "  return result%configuration.signs\n",
        "  \n"
      ],
      "metadata": {
        "colab": {
          "base_uri": "https://localhost:8080/"
        },
        "id": "e3dJXsqzDB6T",
        "outputId": "53af70f6-8fb2-4c1e-9a58-546acff473ef"
      },
      "execution_count": 100,
      "outputs": [
        {
          "output_type": "stream",
          "name": "stdout",
          "text": [
            "Overwriting agent_pi.py\n"
          ]
        }
      ]
    },
    {
      "cell_type": "code",
      "source": [
        "evaluate(\n",
        "    \"rps\", #environment to use - no need to change\n",
        "    [\"agent_pi.py\",  \"statistical\"], #agents to evaluate\n",
        "    configuration={\"episodeSteps\": 100} #number of episodes \n",
        ")"
      ],
      "metadata": {
        "colab": {
          "base_uri": "https://localhost:8080/"
        },
        "id": "XNmWS4-zDB9M",
        "outputId": "57a1464d-976c-4df4-f384-5ee47c81ac47"
      },
      "execution_count": null,
      "outputs": [
        {
          "output_type": "execute_result",
          "data": {
            "text/plain": [
              "[[0, 0]]"
            ]
          },
          "metadata": {},
          "execution_count": 11
        }
      ]
    },
    {
      "cell_type": "markdown",
      "source": [
        "**13. Агент Фибоначчи (берется остаток от деления на 3 каждого следующего числа Фибоначии.**"
      ],
      "metadata": {
        "id": "Q7IVaAqHR4dh"
      }
    },
    {
      "cell_type": "markdown",
      "source": [
        "> Agent Fibonacci - takes Fibonacci numbers and returns mod 3 of it as his move."
      ],
      "metadata": {
        "id": "8EjbveHgCdAZ"
      }
    },
    {
      "cell_type": "code",
      "source": [
        "%%writefile agent_fibonacci.py\n",
        "\n",
        "fibo_list=[1,1]\n",
        "\n",
        "def agent_fibonacci(observation, configuration):\n",
        "    global fibo_list\n",
        "    fibo_list.append(fibo_list[-1]+fibo_list[-2])\n",
        "    return fibo_list.pop(0)%configuration.signs\n",
        "  "
      ],
      "metadata": {
        "colab": {
          "base_uri": "https://localhost:8080/"
        },
        "id": "q8tQ7d8_IsGL",
        "outputId": "1bc72a9b-97f0-442a-ae69-69e0255f5c8b"
      },
      "execution_count": 101,
      "outputs": [
        {
          "output_type": "stream",
          "name": "stdout",
          "text": [
            "Overwriting agent_fibonacci.py\n"
          ]
        }
      ]
    },
    {
      "cell_type": "code",
      "source": [
        "evaluate(\n",
        "    \"rps\", #environment to use - no need to change\n",
        "    [\"agent_fibonacci.py\",  \"statistical\"], #agents to evaluate\n",
        "    configuration={\"episodeSteps\": 100} #number of episodes \n",
        ")"
      ],
      "metadata": {
        "colab": {
          "base_uri": "https://localhost:8080/"
        },
        "id": "HVaz83V5IsIw",
        "outputId": "602bdfbb-b1aa-489c-b50e-cc8bf54d0433"
      },
      "execution_count": null,
      "outputs": [
        {
          "output_type": "execute_result",
          "data": {
            "text/plain": [
              "[[0, 0]]"
            ]
          },
          "metadata": {},
          "execution_count": 13
        }
      ]
    },
    {
      "cell_type": "markdown",
      "source": [
        "**14. Агент, предпочитающий камень в 40% случаев.**"
      ],
      "metadata": {
        "id": "RCo3Hq3KR4gB"
      }
    },
    {
      "cell_type": "code",
      "source": [
        "%%writefile tend_to_rock_agent.py\n",
        "import random\n",
        "\n",
        "def tend_to_rock_agent(observation, configuration):\n",
        "  rand_num = random.randrange(random.randrange(1,2), 10)\n",
        "  if rand_num in (0,2):\n",
        "    result = 0\n",
        "  else:\n",
        "    result = rand_num % 3\n",
        "  return result"
      ],
      "metadata": {
        "colab": {
          "base_uri": "https://localhost:8080/"
        },
        "id": "zxMrKxyFqTIr",
        "outputId": "215c35e2-d2bc-4184-8a31-8b28a0acf298"
      },
      "execution_count": 102,
      "outputs": [
        {
          "output_type": "stream",
          "name": "stdout",
          "text": [
            "Overwriting tend_to_rock_agent.py\n"
          ]
        }
      ]
    },
    {
      "cell_type": "code",
      "source": [
        "evaluate(\n",
        "    \"rps\", #environment to use - no need to change\n",
        "    [\"tend_to_rock_agent.py\",  \"statistical\"], #agents to evaluate\n",
        "    configuration={\"episodeSteps\": 100} #number of episodes \n",
        ")"
      ],
      "metadata": {
        "colab": {
          "base_uri": "https://localhost:8080/"
        },
        "outputId": "34311e63-eeee-43db-d081-d7ec7a2e395b",
        "id": "b5vR5JM8tlgr"
      },
      "execution_count": null,
      "outputs": [
        {
          "output_type": "execute_result",
          "data": {
            "text/plain": [
              "[[-22.0, 22.0]]"
            ]
          },
          "metadata": {},
          "execution_count": 15
        }
      ]
    },
    {
      "cell_type": "markdown",
      "source": [
        "**15. Агент, предпочитающий бумагу в 40% случаев.**"
      ],
      "metadata": {
        "id": "bPg8R5aqR4ir"
      }
    },
    {
      "cell_type": "code",
      "source": [
        "%%writefile tend_to_paper_agent.py\n",
        "import random\n",
        "\n",
        "def tend_to_paper_agent(observation, configuration):\n",
        "  rand_num = random.randrange(random.randrange(0,2), 10)\n",
        "  if rand_num in (0,2,3):\n",
        "    result = 1\n",
        "  else:\n",
        "    result = rand_num % 3\n",
        "  return result"
      ],
      "metadata": {
        "colab": {
          "base_uri": "https://localhost:8080/"
        },
        "id": "PpSgypILZ89m",
        "outputId": "d1d979ef-b97b-4ba6-8561-ee30f3e23cf6"
      },
      "execution_count": 103,
      "outputs": [
        {
          "output_type": "stream",
          "name": "stdout",
          "text": [
            "Overwriting tend_to_paper_agent.py\n"
          ]
        }
      ]
    },
    {
      "cell_type": "code",
      "source": [
        "evaluate(\n",
        "    \"rps\", #environment to use - no need to change\n",
        "    [\"tend_to_paper_agent.py\",  \"statistical\"], #agents to evaluate\n",
        "    configuration={\"episodeSteps\": 100} #number of episodes \n",
        ")"
      ],
      "metadata": {
        "colab": {
          "base_uri": "https://localhost:8080/"
        },
        "id": "vA0yslefZ9AG",
        "outputId": "9cbea9a0-6345-472f-bd53-d18fcc155695"
      },
      "execution_count": null,
      "outputs": [
        {
          "output_type": "execute_result",
          "data": {
            "text/plain": [
              "[[-30.0, 30.0]]"
            ]
          },
          "metadata": {},
          "execution_count": 7
        }
      ]
    },
    {
      "cell_type": "markdown",
      "source": [
        "**16. Агент, предпочитающий ножницы в 40% случаев.**"
      ],
      "metadata": {
        "id": "rc1ATemNSUmn"
      }
    },
    {
      "cell_type": "code",
      "source": [
        "%%writefile tend_to_scissors_agent.py\n",
        "import random\n",
        "\n",
        "def tend_to_scissors_agent(observation, configuration):\n",
        "  rand_num = random.randrange(random.randrange(0,2), 10)\n",
        "  if rand_num in (0,1,3):\n",
        "    result = 2\n",
        "  else:\n",
        "    result = rand_num % 3\n",
        "  return result"
      ],
      "metadata": {
        "colab": {
          "base_uri": "https://localhost:8080/"
        },
        "id": "AXcNuioQZ90U",
        "outputId": "e629604f-a710-45af-b5e0-6584faad3942"
      },
      "execution_count": 104,
      "outputs": [
        {
          "output_type": "stream",
          "name": "stdout",
          "text": [
            "Overwriting tend_to_scissors_agent.py\n"
          ]
        }
      ]
    },
    {
      "cell_type": "code",
      "source": [
        "evaluate(\n",
        "    \"rps\", #environment to use - no need to change\n",
        "    [\"tend_to_scissors_agent.py\",  \"statistical\"], #agents to evaluate\n",
        "    configuration={\"episodeSteps\": 100} #number of episodes \n",
        ")"
      ],
      "metadata": {
        "colab": {
          "base_uri": "https://localhost:8080/"
        },
        "id": "X6pkcFdEZ92l",
        "outputId": "3e8dec09-15fc-4d81-c6a6-cd8ac6f126a5"
      },
      "execution_count": null,
      "outputs": [
        {
          "output_type": "execute_result",
          "data": {
            "text/plain": [
              "[[-24.0, 24.0]]"
            ]
          },
          "metadata": {},
          "execution_count": 14
        }
      ]
    },
    {
      "cell_type": "markdown",
      "source": [
        "**17. Агент, копирующий предпоследний ход оппонента**"
      ],
      "metadata": {
        "id": "5BRxKiSASUpE"
      }
    },
    {
      "cell_type": "code",
      "source": [
        "%%writefile copy_penultimate_opponent_move_agent.py\n",
        "\n",
        "penultimate_move = None\n",
        "import random\n",
        "\n",
        "def copy_penultimate_opponent_move_agent(observation, configuration):\n",
        "  global penultimate_move\n",
        "  \n",
        "  if observation.step <3:\n",
        "    return random.randrange(0, configuration.signs)\n",
        "  if observation.step >= 3:\n",
        "    return penultimate_move\n",
        "  penultimate_move=observation.lastOpponentAction\n"
      ],
      "metadata": {
        "id": "38SxQsNzXLn9",
        "colab": {
          "base_uri": "https://localhost:8080/"
        },
        "outputId": "4d587b3c-c632-4bd6-af25-21613c1d9150"
      },
      "execution_count": 105,
      "outputs": [
        {
          "output_type": "stream",
          "name": "stdout",
          "text": [
            "Overwriting copy_penultimate_opponent_move_agent.py\n"
          ]
        }
      ]
    },
    {
      "cell_type": "code",
      "source": [
        "evaluate(\n",
        "    \"rps\", #environment to use - no need to change\n",
        "    [\"copy_penultimate_opponent_move_agent.py\",  \"statistical\"], #agents to evaluate\n",
        "    configuration={\"episodeSteps\": 100} #number of episodes \n",
        ")"
      ],
      "metadata": {
        "id": "62oJ3EPDXLqE",
        "colab": {
          "base_uri": "https://localhost:8080/"
        },
        "outputId": "bbc8cc41-0ce2-4a16-f069-899c62506cf8"
      },
      "execution_count": null,
      "outputs": [
        {
          "output_type": "execute_result",
          "data": {
            "text/plain": [
              "[[-97.0, 97.0]]"
            ]
          },
          "metadata": {},
          "execution_count": 74
        }
      ]
    },
    {
      "cell_type": "markdown",
      "source": [
        "**18. Агент, копирующий выигрышный ход оппонента.**\n"
      ],
      "metadata": {
        "id": "SLosJPgiT29m"
      }
    },
    {
      "cell_type": "code",
      "source": [
        "%%writefile copy_winner_opponent_agent.py\n",
        "import random\n",
        "import math \n",
        "\n",
        "def get_score(left_move, right_move):\n",
        "  delta = (\n",
        "    right_move - left_move\n",
        "    if (left_move + right_move) % 2 == 0\n",
        "    else left_move - right_move\n",
        "    )\n",
        "  return 0 if delta == 0 else math.copysign(1, delta)\n",
        "\n",
        "last_move = None\n",
        "\n",
        "def copy_winner_opponent_agent(observation, configuration):\n",
        "  global last_move\n",
        "  if observation.step == 0:\n",
        "    last_move = random.randrange(0, configuration.signs)\n",
        "\n",
        "  if observation.step > 0 and get_score(last_move, observation.lastOpponentAction) == -1:\n",
        "    return observation.lastOpponentAction\n",
        "    \n",
        "  else:\n",
        "    return random.randrange(0, configuration.signs)\n",
        "\n"
      ],
      "metadata": {
        "colab": {
          "base_uri": "https://localhost:8080/"
        },
        "id": "ArV08k3f9Syc",
        "outputId": "794826fa-42ec-4052-8f09-295bf37e7f85"
      },
      "execution_count": 106,
      "outputs": [
        {
          "output_type": "stream",
          "name": "stdout",
          "text": [
            "Overwriting copy_winner_opponent_agent.py\n"
          ]
        }
      ]
    },
    {
      "cell_type": "code",
      "source": [
        "evaluate(\n",
        "    \"rps\", #environment to use - no need to change\n",
        "    [\"copy_winner_opponent_agent.py\",  \"statistical\"], #agents to evaluate\n",
        "    configuration={\"episodeSteps\": 100} #number of episodes \n",
        ")"
      ],
      "metadata": {
        "colab": {
          "base_uri": "https://localhost:8080/"
        },
        "id": "_NDMPYBgbIFm",
        "outputId": "5675fe33-3d23-46fe-ba6f-27176e09bfb2"
      },
      "execution_count": 84,
      "outputs": [
        {
          "output_type": "execute_result",
          "data": {
            "text/plain": [
              "[[0, 0]]"
            ]
          },
          "metadata": {},
          "execution_count": 84
        }
      ]
    },
    {
      "cell_type": "code",
      "source": [
        "members = [\n",
        "        \"rock\",\n",
        "        \"paper\",\n",
        "        \"scissors\",\n",
        "        \"copy_opponent\",\n",
        "        \"random_agent.py\",\n",
        "        'sequential_agent.py',\n",
        "        'winner_agent.py',\n",
        "        'looser_agent.py',\n",
        "        'win_prev_move_agent.py',\n",
        "        'loose_prev_move_agent.py',\n",
        "        'summing_agent.py',\n",
        "        'agent_pi.py',\n",
        "        'agent_fibonacci.py',\n",
        "        'tend_to_rock_agent.py',\n",
        "        'tend_to_paper_agent.py',\n",
        "        'tend_to_scissors_agent.py',\n",
        "        'copy_penultimate_opponent_move_agent.py',\n",
        "        'copy_winner_opponent_agent.py'\n",
        "    ]\n",
        "\n",
        "scores = np.zeros((len(members), len(members)), dtype=int)"
      ],
      "metadata": {
        "id": "ryBDecMaQP5p"
      },
      "execution_count": 129,
      "outputs": []
    },
    {
      "cell_type": "code",
      "source": [
        "for agent_1 in range(len(members)):\n",
        "    for agent_2 in range(agent_1 + 1, len(members)):\n",
        "      current_score = evaluate(\n",
        "        \"rps\", #environment to use - no need to change\n",
        "        [members[agent_1],  members[agent_2]], #agents to evaluate\n",
        "        configuration={\"episodeSteps\": 100} #number of episodes \n",
        "        )\n",
        "      scores[agent_1, agent_2] = current_score[0][0]\n",
        "      scores[agent_2, agent_1] = current_score[0][1]\n"
      ],
      "metadata": {
        "id": "9iky8bpM_SOv"
      },
      "execution_count": 133,
      "outputs": []
    },
    {
      "cell_type": "code",
      "source": [
        "df_scores = pd.DataFrame(\n",
        "    scores, \n",
        "    index=members, \n",
        "    columns=members,\n",
        ")"
      ],
      "metadata": {
        "id": "bYW-EOAhCnqT"
      },
      "execution_count": 143,
      "outputs": []
    },
    {
      "cell_type": "code",
      "source": [
        "plt.figure(figsize=(8, 8))\n",
        "sns.heatmap(\n",
        "    df_scores, annot=True,  linewidths=1, linecolor='black',\n",
        ")\n",
        "plt.xticks(rotation=90, fontsize=15)\n",
        "plt.yticks(fontsize=15);"
      ],
      "metadata": {
        "colab": {
          "base_uri": "https://localhost:8080/",
          "height": 811
        },
        "id": "UyaR2OfXCvyd",
        "outputId": "75753505-6492-42e6-8708-6d76bf1c26d1"
      },
      "execution_count": 144,
      "outputs": [
        {
          "output_type": "display_data",
          "data": {
            "text/plain": [
              "<Figure size 576x576 with 2 Axes>"
            ],
            "image/png": "[encoded data removed]"
          },
          "metadata": {
            "needs_background": "light"
          }
        }
      ]
    }
  ]
}